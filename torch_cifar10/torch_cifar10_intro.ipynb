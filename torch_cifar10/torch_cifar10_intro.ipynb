{
 "cells": [
  {
   "cell_type": "code",
   "execution_count": 79,
   "id": "5c6d2993-dccb-445c-98ea-f9d929a860a0",
   "metadata": {},
   "outputs": [],
   "source": [
    "import matplotlib.pyplot as plt\n",
    "import torch\n",
    "import torch.nn as nn\n",
    "import torch.optim as optim\n",
    "from torchvision import datasets\n",
    "from torchvision import transforms"
   ]
  },
  {
   "cell_type": "code",
   "execution_count": 2,
   "id": "8f6a9177-f6ff-42d9-8a40-6c6eddee7561",
   "metadata": {},
   "outputs": [
    {
     "name": "stdout",
     "output_type": "stream",
     "text": [
      "Downloading https://www.cs.toronto.edu/~kriz/cifar-10-python.tar.gz to ../practice_data/cifar-10-python.tar.gz\n"
     ]
    },
    {
     "name": "stderr",
     "output_type": "stream",
     "text": [
      "100%|███████████████████████████████████████████████████████████████████████████████████████████████████| 170498071/170498071 [00:04<00:00, 42239862.25it/s]\n"
     ]
    },
    {
     "name": "stdout",
     "output_type": "stream",
     "text": [
      "Extracting ../practice_data/cifar-10-python.tar.gz to ../practice_data/\n",
      "Files already downloaded and verified\n"
     ]
    }
   ],
   "source": [
    "data_path = \"../practice_data/\"\n",
    "## Download the training data\n",
    "cifar10 = datasets.CIFAR10(data_path, train=True, download=True)\n",
    "## and the validation data\n",
    "cifar10_val = datasets.CIFAR10(data_path, train=False, download=True)"
   ]
  },
  {
   "cell_type": "code",
   "execution_count": 8,
   "id": "17d1067a-f074-4541-9759-ba851af0b299",
   "metadata": {},
   "outputs": [
    {
     "data": {
      "text/plain": [
       "(<PIL.Image.Image image mode=RGB size=32x32>, 1, 'automobile')"
      ]
     },
     "execution_count": 8,
     "metadata": {},
     "output_type": "execute_result"
    }
   ],
   "source": [
    "## Accessing an item in the dataset\n",
    "img, label = cifar10[99]\n",
    "img, label, cifar10.classes[1]\n"
   ]
  },
  {
   "cell_type": "code",
   "execution_count": 6,
   "id": "c0aa2aac-f32f-43a0-80b2-bcef0793d2da",
   "metadata": {},
   "outputs": [
    {
     "data": {
      "text/plain": [
       "50000"
      ]
     },
     "execution_count": 6,
     "metadata": {},
     "output_type": "execute_result"
    }
   ],
   "source": [
    "len(cifar10)"
   ]
  },
  {
   "cell_type": "code",
   "execution_count": 10,
   "id": "702ac408-836d-416a-b994-4efe6ea36780",
   "metadata": {},
   "outputs": [
    {
     "data": {
      "image/png": "[encoded data removed]",
      "text/plain": [
       "<Figure size 640x480 with 1 Axes>"
      ]
     },
     "metadata": {},
     "output_type": "display_data"
    }
   ],
   "source": [
    "plt.imshow(img)\n",
    "plt.show()"
   ]
  },
  {
   "cell_type": "code",
   "execution_count": 12,
   "id": "a7eb3b35-aa9b-44d6-bd93-d53475f708c4",
   "metadata": {},
   "outputs": [
    {
     "data": {
      "text/plain": [
       "['AugMix',\n",
       " 'AutoAugment',\n",
       " 'AutoAugmentPolicy',\n",
       " 'CenterCrop',\n",
       " 'ColorJitter',\n",
       " 'Compose',\n",
       " 'ConvertImageDtype',\n",
       " 'ElasticTransform',\n",
       " 'FiveCrop',\n",
       " 'GaussianBlur',\n",
       " 'Grayscale',\n",
       " 'InterpolationMode',\n",
       " 'Lambda',\n",
       " 'LinearTransformation',\n",
       " 'Normalize',\n",
       " 'PILToTensor',\n",
       " 'Pad',\n",
       " 'RandAugment',\n",
       " 'RandomAdjustSharpness',\n",
       " 'RandomAffine',\n",
       " 'RandomApply',\n",
       " 'RandomAutocontrast',\n",
       " 'RandomChoice',\n",
       " 'RandomCrop',\n",
       " 'RandomEqualize',\n",
       " 'RandomErasing',\n",
       " 'RandomGrayscale',\n",
       " 'RandomHorizontalFlip',\n",
       " 'RandomInvert',\n",
       " 'RandomOrder',\n",
       " 'RandomPerspective',\n",
       " 'RandomPosterize',\n",
       " 'RandomResizedCrop',\n",
       " 'RandomRotation',\n",
       " 'RandomSolarize',\n",
       " 'RandomVerticalFlip',\n",
       " 'Resize',\n",
       " 'TenCrop',\n",
       " 'ToPILImage',\n",
       " 'ToTensor',\n",
       " 'TrivialAugmentWide',\n",
       " '__builtins__',\n",
       " '__cached__',\n",
       " '__doc__',\n",
       " '__file__',\n",
       " '__loader__',\n",
       " '__name__',\n",
       " '__package__',\n",
       " '__path__',\n",
       " '__spec__',\n",
       " '_functional_pil',\n",
       " '_functional_tensor',\n",
       " '_presets',\n",
       " 'autoaugment',\n",
       " 'functional',\n",
       " 'transforms']"
      ]
     },
     "execution_count": 12,
     "metadata": {},
     "output_type": "execute_result"
    }
   ],
   "source": [
    "## What transforms does torchvision provide?\n",
    "dir(transforms)"
   ]
  },
  {
   "cell_type": "code",
   "execution_count": 13,
   "id": "14396a2c-bc63-4bbf-ae33-35ae22b5e198",
   "metadata": {},
   "outputs": [
    {
     "data": {
      "text/plain": [
       "torch.Size([3, 32, 32])"
      ]
     },
     "execution_count": 13,
     "metadata": {},
     "output_type": "execute_result"
    }
   ],
   "source": [
    "## Lets instatiat a transform so we can convert our images to tensors\n",
    "to_tensor = transforms.ToTensor()\n",
    "img_t = to_tensor(img)\n",
    "img_t.shape"
   ]
  },
  {
   "cell_type": "markdown",
   "id": "3371c2e1-0f76-4303-bfd1-afa9498d54d4",
   "metadata": {},
   "source": [
    "It looks like we have RBG channels for a 32x32 image"
   ]
  },
  {
   "cell_type": "code",
   "execution_count": 18,
   "id": "983c7e6d-a1d2-45c6-ba3b-421d27280493",
   "metadata": {},
   "outputs": [],
   "source": [
    "## Applying the transform to the entire dataset on loading\n",
    "tensor_cifar10 = datasets.CIFAR10(data_path, train=True, download=False, \n",
    "                                  transform=transforms.ToTensor()\n",
    "                                 )"
   ]
  },
  {
   "cell_type": "code",
   "execution_count": 19,
   "id": "02afd43b-cbe5-431b-93b0-d46af5d379c8",
   "metadata": {},
   "outputs": [
    {
     "data": {
      "text/plain": [
       "torch.Tensor"
      ]
     },
     "execution_count": 19,
     "metadata": {},
     "output_type": "execute_result"
    }
   ],
   "source": [
    "img_t, _ = tensor_cifar10[99]\n",
    "type(img_t)"
   ]
  },
  {
   "cell_type": "code",
   "execution_count": 20,
   "id": "7e2a8f34-59ac-4c18-b511-2e7955d8d6dd",
   "metadata": {},
   "outputs": [
    {
     "data": {
      "text/plain": [
       "(torch.Size([3, 32, 32]), torch.float32)"
      ]
     },
     "execution_count": 20,
     "metadata": {},
     "output_type": "execute_result"
    }
   ],
   "source": [
    "img_t.shape, img_t.dtype"
   ]
  },
  {
   "cell_type": "code",
   "execution_count": 21,
   "id": "19ef27dc-2d86-4a48-a715-c8c2e7a1d1f0",
   "metadata": {},
   "outputs": [
    {
     "data": {
      "text/plain": [
       "(tensor(0.), tensor(1.))"
      ]
     },
     "execution_count": 21,
     "metadata": {},
     "output_type": "execute_result"
    }
   ],
   "source": [
    "img_t.min(), img_t.max()"
   ]
  },
  {
   "cell_type": "code",
   "execution_count": 22,
   "id": "8687846f-5790-4253-bb7b-6871bd4d94de",
   "metadata": {},
   "outputs": [
    {
     "data": {
      "image/png": "[encoded data removed]",
      "text/plain": [
       "<Figure size 640x480 with 1 Axes>"
      ]
     },
     "metadata": {},
     "output_type": "display_data"
    }
   ],
   "source": [
    "plt.imshow(img_t.permute(1,2,0))\n",
    "plt.show()"
   ]
  },
  {
   "cell_type": "code",
   "execution_count": 42,
   "id": "7447e755-9d30-4814-a238-73e011ffcd76",
   "metadata": {},
   "outputs": [],
   "source": [
    "## Stacking all of the images for manipulation\n",
    "## NOTE: This is okay because the dataset is pretty small\n",
    "imgs = torch.stack([img_t for img_t, _ in tensor_cifar10],\n",
    "                   ## Here we specify where to place the index in the stack\n",
    "                   ## since we want 3x32x32x50000 we want the index \n",
    "                   ## in position 3 (if we set dim=1 we'd get 3x50000x32x32)\n",
    "                   dim=3\n",
    "                  )"
   ]
  },
  {
   "cell_type": "code",
   "execution_count": 43,
   "id": "1916000d-512e-4986-813b-2c59af7bd10d",
   "metadata": {},
   "outputs": [
    {
     "data": {
      "text/plain": [
       "torch.Size([3, 32, 32, 50000])"
      ]
     },
     "execution_count": 43,
     "metadata": {},
     "output_type": "execute_result"
    }
   ],
   "source": [
    "imgs.shape"
   ]
  },
  {
   "cell_type": "code",
   "execution_count": 48,
   "id": "18c4e06e-2a2a-4281-9160-a7d1af6c4605",
   "metadata": {},
   "outputs": [
    {
     "data": {
      "text/plain": [
       "torch.Size([3, 51200000])"
      ]
     },
     "execution_count": 48,
     "metadata": {},
     "output_type": "execute_result"
    }
   ],
   "source": [
    "## View the stack as the RGB channels for each pixel\n",
    "imgs.view(3,-1).shape"
   ]
  },
  {
   "cell_type": "code",
   "execution_count": 49,
   "id": "e7d46bc2-967d-4c6e-ba38-bbc2229305ac",
   "metadata": {},
   "outputs": [
    {
     "data": {
      "text/plain": [
       "tensor([0.4914, 0.4822, 0.4465])"
      ]
     },
     "execution_count": 49,
     "metadata": {},
     "output_type": "execute_result"
    }
   ],
   "source": [
    "## Get the mean RGB values for the stack\n",
    "imgs.view(3,-1).mean(dim=1)"
   ]
  },
  {
   "cell_type": "code",
   "execution_count": 50,
   "id": "fddc8609-0f22-41c0-aab3-8b4edcaa11d6",
   "metadata": {},
   "outputs": [
    {
     "data": {
      "text/plain": [
       "tensor([0.2470, 0.2435, 0.2616])"
      ]
     },
     "execution_count": 50,
     "metadata": {},
     "output_type": "execute_result"
    }
   ],
   "source": [
    "## Get the standard deviation of RGB values for the stack\n",
    "imgs.view(3,-1).std(dim=1)"
   ]
  },
  {
   "cell_type": "code",
   "execution_count": 51,
   "id": "5bebdf47-cbfc-4968-8b07-950a7f4d27a6",
   "metadata": {},
   "outputs": [],
   "source": [
    "rbg_mean = imgs.view(3,-1).mean(dim=1)\n",
    "rbg_std = imgs.view(3,-1).std(dim=1)"
   ]
  },
  {
   "cell_type": "code",
   "execution_count": 58,
   "id": "b40254aa-f3e8-4136-ac12-9b8c848c92e4",
   "metadata": {},
   "outputs": [],
   "source": [
    "to_tensor = transforms.ToTensor()\n",
    "rbg_normalize = transforms.Normalize(rbg_mean, rbg_std)"
   ]
  },
  {
   "cell_type": "code",
   "execution_count": 59,
   "id": "de17a103-7b4e-4fa8-9f93-1064fcd0ca57",
   "metadata": {},
   "outputs": [],
   "source": [
    "transformed_cifar10 = datasets.CIFAR10(data_path, train=True, download=False,\n",
    "                                       transform=transforms.Compose([to_tensor, \n",
    "                                                                     rbg_normalize]))"
   ]
  },
  {
   "cell_type": "code",
   "execution_count": 60,
   "id": "7d631e7d-334f-4edf-a7e0-4471ac5c682d",
   "metadata": {},
   "outputs": [
    {
     "name": "stderr",
     "output_type": "stream",
     "text": [
      "Clipping input data to the valid range for imshow with RGB data ([0..1] for floats or [0..255] for integers).\n"
     ]
    },
    {
     "data": {
      "text/plain": [
       "<matplotlib.image.AxesImage at 0x177e15ed0>"
      ]
     },
     "execution_count": 60,
     "metadata": {},
     "output_type": "execute_result"
    },
    {
     "data": {
      "image/png": "[encoded data removed]",
      "text/plain": [
       "<Figure size 640x480 with 1 Axes>"
      ]
     },
     "metadata": {},
     "output_type": "display_data"
    }
   ],
   "source": [
    "img_t, _ = transformed_cifar10[99]\n",
    "plt.imshow(img_t.permute(1,2,0))"
   ]
  },
  {
   "cell_type": "markdown",
   "id": "5223c5f0-d7cb-4da8-af87-afbc07aad292",
   "metadata": {},
   "source": [
    "## Bulding a classifier\n",
    "\n",
    "Here we want to distiguish between birds and airplanes only. "
   ]
  },
  {
   "cell_type": "code",
   "execution_count": 61,
   "id": "62e9233a-3df0-4c91-80a2-846cb54b2085",
   "metadata": {},
   "outputs": [
    {
     "data": {
      "text/plain": [
       "['airplane',\n",
       " 'automobile',\n",
       " 'bird',\n",
       " 'cat',\n",
       " 'deer',\n",
       " 'dog',\n",
       " 'frog',\n",
       " 'horse',\n",
       " 'ship',\n",
       " 'truck']"
      ]
     },
     "execution_count": 61,
     "metadata": {},
     "output_type": "execute_result"
    }
   ],
   "source": [
    "cifar10.classes"
   ]
  },
  {
   "cell_type": "code",
   "execution_count": 84,
   "id": "422f9b03-2ba7-4740-9fc4-90cecca861e0",
   "metadata": {},
   "outputs": [],
   "source": [
    "transformed_cifar10 = datasets.CIFAR10(data_path, train=True, download=False,\n",
    "                                       transform=transforms.Compose([to_tensor, \n",
    "                                                                     rbg_normalize]))\n",
    "transformed_cifar10_val = datasets.CIFAR10(data_path, train=False, download=False,\n",
    "                                           transform=transforms.Compose([to_tensor, \n",
    "                                                                         rbg_normalize]))\n",
    "## Create a label map for the classes we are focused on\n",
    "label_map = {0:0, 2:1}\n",
    "class_names = ['airplane', 'bird']\n",
    "\n",
    "## grab the images and labels that match what we're focused on\n",
    "cifar2 = [(img, label_map[label]) for img, label in transformed_cifar10 if label in label_map]\n",
    "cifar2_val = [(img, label_map[label]) for img, label in transformed_cifar10_val if label in label_map]"
   ]
  },
  {
   "cell_type": "code",
   "execution_count": 85,
   "id": "1974909d-2ab1-4910-bcec-e3d33c060f68",
   "metadata": {},
   "outputs": [
    {
     "data": {
      "text/plain": [
       "(10000, 2000)"
      ]
     },
     "execution_count": 85,
     "metadata": {},
     "output_type": "execute_result"
    }
   ],
   "source": [
    "len(cifar2), len(cifar2_val)"
   ]
  },
  {
   "cell_type": "markdown",
   "id": "7962ec0a-415e-4ac6-8e5f-5cd277b50b97",
   "metadata": {},
   "source": [
    "## A basic linear model\n",
    "\n",
    "Each input is a 3x32x32 array of values, or 3,072 input features per sample. We'll start with an input layer of that size, and taper down to our eventual output of 2 number features.\n",
    "\n",
    "We'll onehot encode our target so that \\[1,0\\] represents an airplane and \\[0,1\\] represents a bird."
   ]
  },
  {
   "cell_type": "code",
   "execution_count": 89,
   "id": "7d28ea5e-76a2-4f49-a5fb-9ba67642c473",
   "metadata": {},
   "outputs": [],
   "source": [
    "n_out = 2\n",
    "hl1_out = 512\n",
    "\n",
    "model = nn.Sequential(\n",
    "            nn.Linear(3072, hl1_out),\n",
    "            nn.Tanh(),\n",
    "            nn.Linear(hl1_out, n_out),\n",
    "            nn.LogSoftmax(dim=1) ## Inputs will be a vector of rows, we want to softmax each row\n",
    ")\n",
    "\n",
    "loss_fn = nn.NLLLoss()"
   ]
  },
  {
   "cell_type": "markdown",
   "id": "9909d33f-2bf7-4e81-8bd5-2fbe118a0207",
   "metadata": {},
   "source": [
    "## LogSoftmax vs. Softmax\n",
    "\n",
    "Here we use `LogSoftmax` instead of `Softmax` because we eventually want to use Negative Log Likelyhood to compute how far off our predictions (probabilities) are from correct.\n",
    "\n",
    "### Loss Function: Negative Log Likelyhood\n",
    "By definition, the negative log ligelyhood is computed like this:\n",
    "\n",
    "$$NLL= -\\sum_{N \\text{ samples}} \\ln(\\hat{y}_i) \\cdot y_i$$\n",
    "\n",
    "but the `NLLLoss` function provided by Pytorch **assumes you have already taken the logarithm!**\n",
    "\n",
    "### Softmax\n",
    "`Softmax` rescales raw output from the nuewal network $z_i$ to a tensor of probabilities. With soem abuse of notation, this looks like:\n",
    "\n",
    "$$\\sigma(z_i)=\\frac{e^{z_i}}{\\sum e^{z_i}}$$\n",
    "\n",
    "### LogSoftmax\n",
    "`LogSoftmax` takes the logarithms of the Softmax outputs, so probabilities near 0 will be sent to large negative numbers and probabilities near 1 will be sent to nearly zero numbers. This is what we send to `NLLLoss` so that it functions properly."
   ]
  },
  {
   "cell_type": "code",
   "execution_count": 90,
   "id": "242e82f0-b599-4ade-bfb0-337303ad5641",
   "metadata": {},
   "outputs": [],
   "source": [
    "## Define a learning rate and set up an optimizer\n",
    "learning_rate = 1e-2\n",
    "\n",
    "optimizer = optim.SGD(model.parameters(), lr=learning_rate)"
   ]
  },
  {
   "cell_type": "code",
   "execution_count": null,
   "id": "9d31b299-c1f3-41a7-84fc-7e5ea8b76444",
   "metadata": {},
   "outputs": [
    {
     "name": "stdout",
     "output_type": "stream",
     "text": [
      "Epoch: 0, Loss: 6.584518\n",
      "Epoch: 1, Loss: 6.566276\n",
      "Epoch: 2, Loss: 5.523217\n",
      "Epoch: 3, Loss: 11.731905\n",
      "Epoch: 4, Loss: 4.047135\n",
      "Epoch: 5, Loss: 7.173487\n",
      "Epoch: 6, Loss: 7.515501\n",
      "Epoch: 7, Loss: 4.768145\n",
      "Epoch: 8, Loss: 5.080689\n",
      "Epoch: 9, Loss: 0.670555\n",
      "Epoch: 10, Loss: 0.224577\n",
      "Epoch: 11, Loss: 8.178800\n",
      "Epoch: 12, Loss: 10.531750\n",
      "Epoch: 13, Loss: 4.841116\n",
      "Epoch: 14, Loss: 1.209204\n",
      "Epoch: 15, Loss: 12.479670\n",
      "Epoch: 16, Loss: 12.187854\n",
      "Epoch: 17, Loss: 5.392720\n",
      "Epoch: 18, Loss: 0.032267\n",
      "Epoch: 19, Loss: 1.659208\n",
      "Epoch: 20, Loss: 0.334299\n",
      "Epoch: 21, Loss: 1.700527\n",
      "Epoch: 22, Loss: 14.129149\n",
      "Epoch: 23, Loss: 4.944694\n",
      "Epoch: 24, Loss: 16.230444\n",
      "Epoch: 25, Loss: 11.033029\n",
      "Epoch: 26, Loss: 7.983840\n",
      "Epoch: 27, Loss: 5.483389\n",
      "Epoch: 28, Loss: 10.540730\n",
      "Epoch: 29, Loss: 5.802845\n",
      "Epoch: 30, Loss: 6.458681\n",
      "Epoch: 31, Loss: 15.772556\n",
      "Epoch: 32, Loss: 15.265117\n",
      "Epoch: 33, Loss: 20.013838\n",
      "Epoch: 34, Loss: 8.574994\n",
      "Epoch: 35, Loss: 1.030717\n",
      "Epoch: 36, Loss: 4.797424\n",
      "Epoch: 37, Loss: 2.822315\n",
      "Epoch: 38, Loss: 2.113442\n",
      "Epoch: 39, Loss: 11.439681\n",
      "Epoch: 40, Loss: 9.416438\n",
      "Epoch: 41, Loss: 2.428441\n",
      "Epoch: 42, Loss: 14.512144\n",
      "Epoch: 43, Loss: 2.471677\n",
      "Epoch: 44, Loss: 3.085519\n",
      "Epoch: 45, Loss: 12.851144\n",
      "Epoch: 46, Loss: 2.046078\n",
      "Epoch: 47, Loss: 0.116080\n",
      "Epoch: 48, Loss: 2.877422\n",
      "Epoch: 49, Loss: 8.179481\n",
      "Epoch: 50, Loss: 6.224109\n",
      "Epoch: 51, Loss: 10.481137\n",
      "Epoch: 52, Loss: 17.329365\n",
      "Epoch: 53, Loss: 2.303840\n",
      "Epoch: 54, Loss: 1.613747\n",
      "Epoch: 55, Loss: 8.656689\n",
      "Epoch: 56, Loss: 5.689102\n",
      "Epoch: 57, Loss: 2.479757\n",
      "Epoch: 58, Loss: 5.534699\n",
      "Epoch: 59, Loss: 15.280056\n",
      "Epoch: 60, Loss: 7.708640\n",
      "Epoch: 61, Loss: 2.726181\n",
      "Epoch: 62, Loss: 3.426450\n",
      "Epoch: 63, Loss: 5.717151\n",
      "Epoch: 64, Loss: 12.872193\n",
      "Epoch: 65, Loss: 9.269807\n",
      "Epoch: 66, Loss: 12.414404\n",
      "Epoch: 67, Loss: 5.812125\n",
      "Epoch: 68, Loss: 0.473805\n",
      "Epoch: 69, Loss: 5.869411\n",
      "Epoch: 70, Loss: 5.604033\n"
     ]
    }
   ],
   "source": [
    "## Train the model\n",
    "n_epochs = 100\n",
    "\n",
    "for epoch in range(n_epochs):\n",
    "    ## For each image in the training set\n",
    "    for img, label in cifar2:\n",
    "        ## Make a guess\n",
    "        out = model(img.view(-1).unsqueeze(0))\n",
    "        ## Compute the loss\n",
    "        loss = loss_fn(out, torch.tensor([label]))\n",
    "        ## Zero the gradient\n",
    "        optimizer.zero_grad()\n",
    "        ## Update the gradient of the loss at this image\n",
    "        loss.backward()\n",
    "        ## Update parameters in the direction of the gradient\n",
    "        optimizer.step()\n",
    "    ## Output progress\n",
    "    print(\"Epoch: %d, Loss: %f\" % (epoch, float(loss)))"
   ]
  },
  {
   "cell_type": "markdown",
   "id": "cc684777-efc0-4b01-b299-5bfdf4538935",
   "metadata": {},
   "source": [
    "Yikes, that was awful. It took forever and the gradient is updated after every single image instead of after at least a batch of a few. So, the direction of the gradient after each sample is actually pretty much random. The loss is all over the place! I bet there are some tools to make that less crappy..."
   ]
  },
  {
   "cell_type": "code",
   "execution_count": null,
   "id": "4a78ee4a-dfe7-4203-9df3-c37647e88852",
   "metadata": {},
   "outputs": [],
   "source": [
    "import torch\n",
    "import torch.nn as nn\n",
    "\n",
    "## Define a dataloader that will grab minibatches from our dataset\n",
    "train_loader = torch.utils.data.DataLoader(cifar2, \n",
    "                                           batch_size=64,\n",
    "                                           shuffle=True)\n",
    "## Define a model\n",
    "n_out = 2\n",
    "hl1_out = 512\n",
    "model = nn.Sequential(\n",
    "            nn.Linear(3072, hl1_out),\n",
    "            nn.Tanh(),\n",
    "            nn.Linear(hl1_out, n_out),\n",
    "            nn.LogSoftmax(dim=1) ## Inputs will be a vector of rows, we want to softmax each row\n",
    ")\n",
    "\n",
    "## Define a loss function\n",
    "loss_fn = nn.NLLLoss()\n",
    "\n",
    "## Define an optimizer\n",
    "learning_rate = 1e-2\n",
    "optimizer = optim.SGD(model.parameters(), lr=learning_rate)\n",
    "\n",
    "## Train the model in batches!\n",
    "n_epochs = 100\n",
    "\n",
    "for epoch in range(n_epochs):\n",
    "    ## For each image in the training set\n",
    "    for imgs, labels in train_loader:\n",
    "        ## Detect the batch size\n",
    "        batch_size = img.shape[0]\n",
    "        ## Make batch guesses\n",
    "        outputs = model(imgs.view(batch_size,-1))\n",
    "        ## Compute the batch losses\n",
    "        loss = loss_fn(out, torch.tensor([label]))\n",
    "        ## Zero the gradient\n",
    "        optimizer.zero_grad()\n",
    "        ## Update the batch gradient of the loss\n",
    "        loss.backward()\n",
    "        ## Update parameters in the direction of the batch gradient\n",
    "        optimizer.step()\n",
    "    ## Output progress\n",
    "    print(\"Epoch: %d, Loss: %f\" % (epoch, float(loss)))"
   ]
  },
  {
   "cell_type": "code",
   "execution_count": null,
   "id": "beb794f2-1124-402d-a050-3de401428760",
   "metadata": {},
   "outputs": [],
   "source": []
  }
 ],
 "metadata": {
  "kernelspec": {
   "display_name": "Python 3.11 (torch)",
   "language": "python",
   "name": "pytorch"
  },
  "language_info": {
   "codemirror_mode": {
    "name": "ipython",
    "version": 3
   },
   "file_extension": ".py",
   "mimetype": "text/x-python",
   "name": "python",
   "nbconvert_exporter": "python",
   "pygments_lexer": "ipython3",
   "version": "3.11.7"
  }
 },
 "nbformat": 4,
 "nbformat_minor": 5
}
