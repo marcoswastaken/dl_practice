{
 "cells": [
  {
   "cell_type": "code",
   "execution_count": 1,
   "id": "188f51a1-3f6d-43b1-8642-4972b207c824",
   "metadata": {},
   "outputs": [],
   "source": [
    "## PyTorch doesn't fully support MPS devices yet (as of Feb 5, 2024)\n",
    "## See: https://github.com/pytorch/pytorch/issues/77764#\n",
    "## The following allows PyTorch to fall back to the CPU whenever it\n",
    "## encounters an unsupported operation\n",
    "import os\n",
    "os.environ[\"PYTORCH_ENABLE_MPS_FALLBACK\"] = \"1\""
   ]
  },
  {
   "cell_type": "code",
   "execution_count": 2,
   "id": "88af1d5a-7086-4ed2-aacf-208bf00ea772",
   "metadata": {},
   "outputs": [],
   "source": [
    "from PIL import Image    ## Image tools\n",
    "import torch\n",
    "from torchvision import models    ## Pretrained models\n",
    "from torchvision import transforms    ## Transforms"
   ]
  },
  {
   "cell_type": "code",
   "execution_count": null,
   "id": "9d6afc67-b3b2-4c10-adee-d6221fa72ccc",
   "metadata": {},
   "outputs": [],
   "source": [
    "## Instatiate a ResNetGenerator\n",
    "netG = ResNet"
   ]
  }
 ],
 "metadata": {
  "kernelspec": {
   "display_name": "Python 3.11 (torch)",
   "language": "python",
   "name": "pytorch"
  },
  "language_info": {
   "codemirror_mode": {
    "name": "ipython",
    "version": 3
   },
   "file_extension": ".py",
   "mimetype": "text/x-python",
   "name": "python",
   "nbconvert_exporter": "python",
   "pygments_lexer": "ipython3",
   "version": "3.11.7"
  }
 },
 "nbformat": 4,
 "nbformat_minor": 5
}
