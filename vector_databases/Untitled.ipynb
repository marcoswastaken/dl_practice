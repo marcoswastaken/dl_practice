{
 "cells": [
  {
   "cell_type": "code",
   "execution_count": 21,
   "id": "68984bee-ff4c-44d8-9360-e5ba7886ead8",
   "metadata": {},
   "outputs": [],
   "source": [
    "from datasets import load_dataset\n",
    "from dotenv import load_dotenv, find_dotenv\n",
    "import lancedb\n",
    "from lancedb.context import contextualize\n",
    "from lancedb.embeddings import with_embeddings\n",
    "from openai import OpenAI\n",
    "import os\n",
    "import pandas as pd\n",
    "\n",
    "\n",
    "load_dotenv(find_dotenv())\n",
    "gptAPI = os.getenv(\"OPENAI_API_KEY\")"
   ]
  },
  {
   "cell_type": "code",
   "execution_count": 2,
   "id": "daadf70c-a6b9-4ade-a54c-297e69eea963",
   "metadata": {},
   "outputs": [],
   "source": [
    "uri = \"data/sample-lancedb\"\n",
    "db = lancedb.connect(uri)\n",
    "table = db.create_table(\"my_table\",\n",
    "                         data=[{\"vector\": [3.1, 4.1], \"item\": \"foo\", \"price\": 10.0},\n",
    "                               {\"vector\": [5.9, 26.5], \"item\": \"bar\", \"price\": 20.0}],\n",
    "                        exist_ok=True)\n",
    "result = table.search([100, 100]).limit(2).to_pandas()"
   ]
  },
  {
   "cell_type": "code",
   "execution_count": 3,
   "id": "66591786-93a7-4816-a1ea-75ebc027af2b",
   "metadata": {},
   "outputs": [
    {
     "data": {
      "text/html": [
       "<div>\n",
       "<style scoped>\n",
       "    .dataframe tbody tr th:only-of-type {\n",
       "        vertical-align: middle;\n",
       "    }\n",
       "\n",
       "    .dataframe tbody tr th {\n",
       "        vertical-align: top;\n",
       "    }\n",
       "\n",
       "    .dataframe thead th {\n",
       "        text-align: right;\n",
       "    }\n",
       "</style>\n",
       "<table border=\"1\" class=\"dataframe\">\n",
       "  <thead>\n",
       "    <tr style=\"text-align: right;\">\n",
       "      <th></th>\n",
       "      <th>vector</th>\n",
       "      <th>item</th>\n",
       "      <th>price</th>\n",
       "      <th>_distance</th>\n",
       "    </tr>\n",
       "  </thead>\n",
       "  <tbody>\n",
       "    <tr>\n",
       "      <th>0</th>\n",
       "      <td>[5.9, 26.5]</td>\n",
       "      <td>bar</td>\n",
       "      <td>20.0</td>\n",
       "      <td>14257.059570</td>\n",
       "    </tr>\n",
       "    <tr>\n",
       "      <th>1</th>\n",
       "      <td>[3.1, 4.1]</td>\n",
       "      <td>foo</td>\n",
       "      <td>10.0</td>\n",
       "      <td>18586.421875</td>\n",
       "    </tr>\n",
       "  </tbody>\n",
       "</table>\n",
       "</div>"
      ],
      "text/plain": [
       "        vector item  price     _distance\n",
       "0  [5.9, 26.5]  bar   20.0  14257.059570\n",
       "1   [3.1, 4.1]  foo   10.0  18586.421875"
      ]
     },
     "execution_count": 3,
     "metadata": {},
     "output_type": "execute_result"
    }
   ],
   "source": [
    "result"
   ]
  },
  {
   "cell_type": "code",
   "execution_count": 12,
   "id": "6bd8d275-0057-411a-9b24-57c881b62fbb",
   "metadata": {},
   "outputs": [
    {
     "name": "stderr",
     "output_type": "stream",
     "text": [
      "Downloading readme: 100%|██████████████████| 2.13k/2.13k [00:00<00:00, 3.50MB/s]\n",
      "Downloading data: 100%|████████████████████| 79.8M/79.8M [00:11<00:00, 6.83MB/s]\n",
      "Generating train split: 208619 examples [00:00, 1948306.01 examples/s]\n"
     ]
    },
    {
     "data": {
      "text/plain": [
       "Dataset({\n",
       "    features: ['title', 'published', 'url', 'video_id', 'channel_id', 'id', 'text', 'start', 'end'],\n",
       "    num_rows: 208619\n",
       "})"
      ]
     },
     "execution_count": 12,
     "metadata": {},
     "output_type": "execute_result"
    }
   ],
   "source": [
    "## Load the dataset\n",
    "data = load_dataset('jamescalam/youtube-transcriptions', split='train')\n",
    "data"
   ]
  },
  {
   "cell_type": "code",
   "execution_count": 15,
   "id": "8bc4c9ab-0292-4139-b046-b1b761381928",
   "metadata": {},
   "outputs": [
    {
     "data": {
      "text/html": [
       "<div>\n",
       "<style scoped>\n",
       "    .dataframe tbody tr th:only-of-type {\n",
       "        vertical-align: middle;\n",
       "    }\n",
       "\n",
       "    .dataframe tbody tr th {\n",
       "        vertical-align: top;\n",
       "    }\n",
       "\n",
       "    .dataframe thead th {\n",
       "        text-align: right;\n",
       "    }\n",
       "</style>\n",
       "<table border=\"1\" class=\"dataframe\">\n",
       "  <thead>\n",
       "    <tr style=\"text-align: right;\">\n",
       "      <th></th>\n",
       "      <th>title</th>\n",
       "      <th>published</th>\n",
       "      <th>url</th>\n",
       "      <th>video_id</th>\n",
       "      <th>channel_id</th>\n",
       "      <th>id</th>\n",
       "      <th>text</th>\n",
       "      <th>start</th>\n",
       "      <th>end</th>\n",
       "    </tr>\n",
       "  </thead>\n",
       "  <tbody>\n",
       "    <tr>\n",
       "      <th>177622</th>\n",
       "      <td>$5 MILLION AI for FREE</td>\n",
       "      <td>2022-08-12 15:18:07</td>\n",
       "      <td>https://youtu.be/3EjtHs_lXnk</td>\n",
       "      <td>3EjtHs_lXnk</td>\n",
       "      <td>UCfzlCWGWYyIQ0aLC5w48gBQ</td>\n",
       "      <td>3EjtHs_lXnk-t0.0</td>\n",
       "      <td>Imagine an AI where all in the same model you ...</td>\n",
       "      <td>0.0</td>\n",
       "      <td>24.0</td>\n",
       "    </tr>\n",
       "    <tr>\n",
       "      <th>177626</th>\n",
       "      <td>$5 MILLION AI for FREE</td>\n",
       "      <td>2022-08-12 15:18:07</td>\n",
       "      <td>https://youtu.be/3EjtHs_lXnk</td>\n",
       "      <td>3EjtHs_lXnk</td>\n",
       "      <td>UCfzlCWGWYyIQ0aLC5w48gBQ</td>\n",
       "      <td>3EjtHs_lXnk-t33.0</td>\n",
       "      <td>So when you're done, you probably want to keep...</td>\n",
       "      <td>33.0</td>\n",
       "      <td>45.0</td>\n",
       "    </tr>\n",
       "    <tr>\n",
       "      <th>177630</th>\n",
       "      <td>$5 MILLION AI for FREE</td>\n",
       "      <td>2022-08-12 15:18:07</td>\n",
       "      <td>https://youtu.be/3EjtHs_lXnk</td>\n",
       "      <td>3EjtHs_lXnk</td>\n",
       "      <td>UCfzlCWGWYyIQ0aLC5w48gBQ</td>\n",
       "      <td>3EjtHs_lXnk-t66.0</td>\n",
       "      <td>You can download multiple size variants all th...</td>\n",
       "      <td>66.0</td>\n",
       "      <td>77.0</td>\n",
       "    </tr>\n",
       "  </tbody>\n",
       "</table>\n",
       "</div>"
      ],
      "text/plain": [
       "                         title            published  \\\n",
       "177622  $5 MILLION AI for FREE  2022-08-12 15:18:07   \n",
       "177626  $5 MILLION AI for FREE  2022-08-12 15:18:07   \n",
       "177630  $5 MILLION AI for FREE  2022-08-12 15:18:07   \n",
       "\n",
       "                                 url     video_id                channel_id  \\\n",
       "177622  https://youtu.be/3EjtHs_lXnk  3EjtHs_lXnk  UCfzlCWGWYyIQ0aLC5w48gBQ   \n",
       "177626  https://youtu.be/3EjtHs_lXnk  3EjtHs_lXnk  UCfzlCWGWYyIQ0aLC5w48gBQ   \n",
       "177630  https://youtu.be/3EjtHs_lXnk  3EjtHs_lXnk  UCfzlCWGWYyIQ0aLC5w48gBQ   \n",
       "\n",
       "                       id                                               text  \\\n",
       "177622   3EjtHs_lXnk-t0.0  Imagine an AI where all in the same model you ...   \n",
       "177626  3EjtHs_lXnk-t33.0  So when you're done, you probably want to keep...   \n",
       "177630  3EjtHs_lXnk-t66.0  You can download multiple size variants all th...   \n",
       "\n",
       "        start   end  \n",
       "177622    0.0  24.0  \n",
       "177626   33.0  45.0  \n",
       "177630   66.0  77.0  "
      ]
     },
     "execution_count": 15,
     "metadata": {},
     "output_type": "execute_result"
    }
   ],
   "source": [
    "## Prepare the context\n",
    "df = (contextualize(data.to_pandas())\n",
    "      .groupby(\"title\").text_col(\"text\")\n",
    "      .window(20).stride(4)\n",
    "      .to_pandas())\n",
    "df.head(3)"
   ]
  },
  {
   "cell_type": "code",
   "execution_count": 16,
   "id": "1bb010aa-7170-4276-90a9-7cb8c897c4fc",
   "metadata": {},
   "outputs": [
    {
     "data": {
      "text/html": [
       "<div>\n",
       "<style scoped>\n",
       "    .dataframe tbody tr th:only-of-type {\n",
       "        vertical-align: middle;\n",
       "    }\n",
       "\n",
       "    .dataframe tbody tr th {\n",
       "        vertical-align: top;\n",
       "    }\n",
       "\n",
       "    .dataframe thead th {\n",
       "        text-align: right;\n",
       "    }\n",
       "</style>\n",
       "<table border=\"1\" class=\"dataframe\">\n",
       "  <thead>\n",
       "    <tr style=\"text-align: right;\">\n",
       "      <th></th>\n",
       "      <th>title</th>\n",
       "      <th>published</th>\n",
       "      <th>url</th>\n",
       "      <th>video_id</th>\n",
       "      <th>channel_id</th>\n",
       "      <th>id</th>\n",
       "      <th>text</th>\n",
       "      <th>start</th>\n",
       "      <th>end</th>\n",
       "    </tr>\n",
       "  </thead>\n",
       "  <tbody>\n",
       "    <tr>\n",
       "      <th>23451</th>\n",
       "      <td>🤗 Hugging Face just released *Diffusers* - for...</td>\n",
       "      <td>2022-07-26 15:27:46 UTC</td>\n",
       "      <td>https://youtu.be/UzkdOg7wWmI</td>\n",
       "      <td>UzkdOg7wWmI</td>\n",
       "      <td>UCv83tO5cePwHMt1952IVVHw</td>\n",
       "      <td>UzkdOg7wWmI-t887.76</td>\n",
       "      <td>But yeah, it's literally very early days with ...</td>\n",
       "      <td>887.76</td>\n",
       "      <td>894.80</td>\n",
       "    </tr>\n",
       "    <tr>\n",
       "      <th>23455</th>\n",
       "      <td>🤗 Hugging Face just released *Diffusers* - for...</td>\n",
       "      <td>2022-07-26 15:27:46 UTC</td>\n",
       "      <td>https://youtu.be/UzkdOg7wWmI</td>\n",
       "      <td>UzkdOg7wWmI</td>\n",
       "      <td>UCv83tO5cePwHMt1952IVVHw</td>\n",
       "      <td>UzkdOg7wWmI-t904.72</td>\n",
       "      <td>So I hope this is interesting to see. I'm pret...</td>\n",
       "      <td>904.72</td>\n",
       "      <td>912.16</td>\n",
       "    </tr>\n",
       "    <tr>\n",
       "      <th>23459</th>\n",
       "      <td>🤗 Hugging Face just released *Diffusers* - for...</td>\n",
       "      <td>2022-07-26 15:27:46 UTC</td>\n",
       "      <td>https://youtu.be/UzkdOg7wWmI</td>\n",
       "      <td>UzkdOg7wWmI</td>\n",
       "      <td>UCv83tO5cePwHMt1952IVVHw</td>\n",
       "      <td>UzkdOg7wWmI-t923.76</td>\n",
       "      <td>So thank you very much for watching. I hope th...</td>\n",
       "      <td>923.76</td>\n",
       "      <td>929.36</td>\n",
       "    </tr>\n",
       "  </tbody>\n",
       "</table>\n",
       "</div>"
      ],
      "text/plain": [
       "                                                   title  \\\n",
       "23451  🤗 Hugging Face just released *Diffusers* - for...   \n",
       "23455  🤗 Hugging Face just released *Diffusers* - for...   \n",
       "23459  🤗 Hugging Face just released *Diffusers* - for...   \n",
       "\n",
       "                     published                           url     video_id  \\\n",
       "23451  2022-07-26 15:27:46 UTC  https://youtu.be/UzkdOg7wWmI  UzkdOg7wWmI   \n",
       "23455  2022-07-26 15:27:46 UTC  https://youtu.be/UzkdOg7wWmI  UzkdOg7wWmI   \n",
       "23459  2022-07-26 15:27:46 UTC  https://youtu.be/UzkdOg7wWmI  UzkdOg7wWmI   \n",
       "\n",
       "                     channel_id                   id  \\\n",
       "23451  UCv83tO5cePwHMt1952IVVHw  UzkdOg7wWmI-t887.76   \n",
       "23455  UCv83tO5cePwHMt1952IVVHw  UzkdOg7wWmI-t904.72   \n",
       "23459  UCv83tO5cePwHMt1952IVVHw  UzkdOg7wWmI-t923.76   \n",
       "\n",
       "                                                    text   start     end  \n",
       "23451  But yeah, it's literally very early days with ...  887.76  894.80  \n",
       "23455  So I hope this is interesting to see. I'm pret...  904.72  912.16  \n",
       "23459  So thank you very much for watching. I hope th...  923.76  929.36  "
      ]
     },
     "execution_count": 16,
     "metadata": {},
     "output_type": "execute_result"
    }
   ],
   "source": [
    "df.tail(3)"
   ]
  },
  {
   "cell_type": "code",
   "execution_count": 19,
   "id": "5c7f4e9c-8ceb-41a0-9cfa-eec451f90295",
   "metadata": {},
   "outputs": [],
   "source": [
    "## Call OPENAI Embeddings API\n",
    "client = OpenAI()\n",
    "assert len(client.models.list().data) > 0"
   ]
  },
  {
   "cell_type": "code",
   "execution_count": 20,
   "id": "6c94d4cc-2717-4afb-b659-f845bb59ca0f",
   "metadata": {},
   "outputs": [],
   "source": [
    "## Chose and embeddings model\n",
    "def embed_func(c):    \n",
    "    rs = client.embeddings.create(input=c, model=\"text-embedding-ada-002\")\n",
    "    return [rs.data[0].embedding]"
   ]
  },
  {
   "cell_type": "code",
   "execution_count": 22,
   "id": "c4409c6e-87e3-4c4d-bf76-ef0cae7aef95",
   "metadata": {},
   "outputs": [
    {
     "name": "stderr",
     "output_type": "stream",
     "text": [
      "/var/folders/kb/spl5dfb16tscp1by76mk_12c0000gn/T/ipykernel_64232/1278363941.py:2: DeprecationWarning: Function with_embeddings is deprecated and will be removed in a future version\n",
      "  data = with_embeddings(embed_func, df, show_progress=True)\n"
     ]
    },
    {
     "name": "stdout",
     "output_type": "stream",
     "text": [
      "WARNING: rate limit only support up to 3.10, proceeding without rate limiter\n"
     ]
    },
    {
     "name": "stderr",
     "output_type": "stream",
     "text": [
      "100%|███████████████████████████████████████████| 53/53 [17:55<00:00, 20.29s/it]\n"
     ]
    },
    {
     "ename": "ArrowInvalid",
     "evalue": "Added column's length must match table's length. Expected length 52250 but got length 53",
     "output_type": "error",
     "traceback": [
      "\u001b[0;31m---------------------------------------------------------------------------\u001b[0m",
      "\u001b[0;31mArrowInvalid\u001b[0m                              Traceback (most recent call last)",
      "Cell \u001b[0;32mIn[22], line 2\u001b[0m\n\u001b[1;32m      1\u001b[0m \u001b[38;5;66;03m## Create LanceDB Table\u001b[39;00m\n\u001b[0;32m----> 2\u001b[0m data \u001b[38;5;241m=\u001b[39m with_embeddings(embed_func, df, show_progress\u001b[38;5;241m=\u001b[39m\u001b[38;5;28;01mTrue\u001b[39;00m)\n\u001b[1;32m      3\u001b[0m data\u001b[38;5;241m.\u001b[39mto_pandas()\u001b[38;5;241m.\u001b[39mhead(\u001b[38;5;241m1\u001b[39m)\n",
      "File \u001b[0;32m~/miniconda3/envs/aware/lib/python3.11/site-packages/lancedb/util.py:263\u001b[0m, in \u001b[0;36mdeprecated.<locals>.new_func\u001b[0;34m(*args, **kwargs)\u001b[0m\n\u001b[1;32m    254\u001b[0m warnings\u001b[38;5;241m.\u001b[39mwarn(\n\u001b[1;32m    255\u001b[0m     (\n\u001b[1;32m    256\u001b[0m         \u001b[38;5;124mf\u001b[39m\u001b[38;5;124m\"\u001b[39m\u001b[38;5;124mFunction \u001b[39m\u001b[38;5;132;01m{\u001b[39;00mfunc\u001b[38;5;241m.\u001b[39m\u001b[38;5;18m__name__\u001b[39m\u001b[38;5;132;01m}\u001b[39;00m\u001b[38;5;124m is deprecated and will be \u001b[39m\u001b[38;5;124m\"\u001b[39m\n\u001b[0;32m   (...)\u001b[0m\n\u001b[1;32m    260\u001b[0m     stacklevel\u001b[38;5;241m=\u001b[39m\u001b[38;5;241m2\u001b[39m,\n\u001b[1;32m    261\u001b[0m )\n\u001b[1;32m    262\u001b[0m warnings\u001b[38;5;241m.\u001b[39msimplefilter(\u001b[38;5;124m\"\u001b[39m\u001b[38;5;124mdefault\u001b[39m\u001b[38;5;124m\"\u001b[39m, \u001b[38;5;167;01mDeprecationWarning\u001b[39;00m)  \u001b[38;5;66;03m# reset filter\u001b[39;00m\n\u001b[0;32m--> 263\u001b[0m \u001b[38;5;28;01mreturn\u001b[39;00m func(\u001b[38;5;241m*\u001b[39margs, \u001b[38;5;241m*\u001b[39m\u001b[38;5;241m*\u001b[39mkwargs)\n",
      "File \u001b[0;32m~/miniconda3/envs/aware/lib/python3.11/site-packages/lancedb/embeddings/utils.py:85\u001b[0m, in \u001b[0;36mwith_embeddings\u001b[0;34m(func, data, column, wrap_api, show_progress, batch_size)\u001b[0m\n\u001b[1;32m     83\u001b[0m embeddings \u001b[38;5;241m=\u001b[39m func(data[column]\u001b[38;5;241m.\u001b[39mto_numpy())\n\u001b[1;32m     84\u001b[0m table \u001b[38;5;241m=\u001b[39m vec_to_table(np\u001b[38;5;241m.\u001b[39marray(embeddings))\n\u001b[0;32m---> 85\u001b[0m \u001b[38;5;28;01mreturn\u001b[39;00m data\u001b[38;5;241m.\u001b[39mappend_column(\u001b[38;5;124m\"\u001b[39m\u001b[38;5;124mvector\u001b[39m\u001b[38;5;124m\"\u001b[39m, table[\u001b[38;5;124m\"\u001b[39m\u001b[38;5;124mvector\u001b[39m\u001b[38;5;124m\"\u001b[39m])\n",
      "File \u001b[0;32m~/miniconda3/envs/aware/lib/python3.11/site-packages/pyarrow/table.pxi:4543\u001b[0m, in \u001b[0;36mpyarrow.lib.Table.append_column\u001b[0;34m()\u001b[0m\n",
      "File \u001b[0;32m~/miniconda3/envs/aware/lib/python3.11/site-packages/pyarrow/table.pxi:4500\u001b[0m, in \u001b[0;36mpyarrow.lib.Table.add_column\u001b[0;34m()\u001b[0m\n",
      "File \u001b[0;32m~/miniconda3/envs/aware/lib/python3.11/site-packages/pyarrow/error.pxi:154\u001b[0m, in \u001b[0;36mpyarrow.lib.pyarrow_internal_check_status\u001b[0;34m()\u001b[0m\n",
      "File \u001b[0;32m~/miniconda3/envs/aware/lib/python3.11/site-packages/pyarrow/error.pxi:91\u001b[0m, in \u001b[0;36mpyarrow.lib.check_status\u001b[0;34m()\u001b[0m\n",
      "\u001b[0;31mArrowInvalid\u001b[0m: Added column's length must match table's length. Expected length 52250 but got length 53"
     ]
    }
   ],
   "source": [
    "## Create LanceDB Table\n",
    "data = with_embeddings(embed_func, df, show_progress=True)\n",
    "data.to_pandas().head(1)"
   ]
  },
  {
   "cell_type": "code",
   "execution_count": null,
   "id": "b2427048-ea39-4674-86dd-f8ac6176a036",
   "metadata": {},
   "outputs": [],
   "source": []
  }
 ],
 "metadata": {
  "kernelspec": {
   "display_name": "Python [conda env:aware] *",
   "language": "python",
   "name": "conda-env-aware-py"
  },
  "language_info": {
   "codemirror_mode": {
    "name": "ipython",
    "version": 3
   },
   "file_extension": ".py",
   "mimetype": "text/x-python",
   "name": "python",
   "nbconvert_exporter": "python",
   "pygments_lexer": "ipython3",
   "version": "3.11.8"
  }
 },
 "nbformat": 4,
 "nbformat_minor": 5
}
