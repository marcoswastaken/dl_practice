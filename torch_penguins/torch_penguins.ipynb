{
 "cells": [
  {
   "cell_type": "code",
   "execution_count": 1,
   "id": "aa3cfa8a-7f32-4e1c-ba61-5d6458def351",
   "metadata": {},
   "outputs": [],
   "source": [
    "##. Enable CPU fallback when needed\n",
    "import os\n",
    "os.environ['PYTORCH_ENABLE_MPS_FALLBACK'] = '1'"
   ]
  },
  {
   "cell_type": "markdown",
   "id": "a5f3a3ff-4869-45f6-8dfd-5b872967a02a",
   "metadata": {},
   "source": [
    "# Practice using PyTorch to build a penguin classifier\n",
    "\n",
    "## Setup\n",
    "\n",
    "Loading in the packages needed, and the data"
   ]
  },
  {
   "cell_type": "code",
   "execution_count": 2,
   "id": "cad1510a-6009-4401-be18-3117126863fa",
   "metadata": {},
   "outputs": [],
   "source": [
    "import numpy as np\n",
    "import pandas as pd\n",
    "import torch\n",
    "import torch.nn as nn\n",
    "import torch.nn.functional as F\n",
    "from sklearn import preprocessing\n",
    "from sklearn.metrics import accuracy_score\n",
    "##. Importing the Palmer Penguins Dataset is made easy thanks to\n",
    "##. https://github.com/mcnakhaee/palmerpenguins\n",
    "from palmerpenguins import load_penguins"
   ]
  },
  {
   "cell_type": "code",
   "execution_count": 3,
   "id": "60d249a9-8f28-4f59-8d8d-a31a169f427a",
   "metadata": {},
   "outputs": [
    {
     "name": "stdout",
     "output_type": "stream",
     "text": [
      "Using device: mps\n"
     ]
    }
   ],
   "source": [
    "##. Make use of a GPU or MPS (Apple) if one is available.\n",
    "has_mps = torch.backends.mps.is_built()\n",
    "device = \"mps\" if has_mps else \"cuda\" if torch.cuda.is_available() else \"cpu\"\n",
    "print(f\"Using device: {device}\")"
   ]
  },
  {
   "cell_type": "code",
   "execution_count": 4,
   "id": "1b9db1c3-cd28-4252-a813-27fa3d7b54ca",
   "metadata": {},
   "outputs": [
    {
     "data": {
      "text/html": [
       "<div>\n",
       "<style scoped>\n",
       "    .dataframe tbody tr th:only-of-type {\n",
       "        vertical-align: middle;\n",
       "    }\n",
       "\n",
       "    .dataframe tbody tr th {\n",
       "        vertical-align: top;\n",
       "    }\n",
       "\n",
       "    .dataframe thead th {\n",
       "        text-align: right;\n",
       "    }\n",
       "</style>\n",
       "<table border=\"1\" class=\"dataframe\">\n",
       "  <thead>\n",
       "    <tr style=\"text-align: right;\">\n",
       "      <th></th>\n",
       "      <th>species</th>\n",
       "      <th>island</th>\n",
       "      <th>bill_length_mm</th>\n",
       "      <th>bill_depth_mm</th>\n",
       "      <th>flipper_length_mm</th>\n",
       "      <th>body_mass_g</th>\n",
       "      <th>sex</th>\n",
       "      <th>year</th>\n",
       "    </tr>\n",
       "  </thead>\n",
       "  <tbody>\n",
       "    <tr>\n",
       "      <th>0</th>\n",
       "      <td>Adelie</td>\n",
       "      <td>Torgersen</td>\n",
       "      <td>39.1</td>\n",
       "      <td>18.7</td>\n",
       "      <td>181.0</td>\n",
       "      <td>3750.0</td>\n",
       "      <td>male</td>\n",
       "      <td>2007</td>\n",
       "    </tr>\n",
       "    <tr>\n",
       "      <th>1</th>\n",
       "      <td>Adelie</td>\n",
       "      <td>Torgersen</td>\n",
       "      <td>39.5</td>\n",
       "      <td>17.4</td>\n",
       "      <td>186.0</td>\n",
       "      <td>3800.0</td>\n",
       "      <td>female</td>\n",
       "      <td>2007</td>\n",
       "    </tr>\n",
       "    <tr>\n",
       "      <th>2</th>\n",
       "      <td>Adelie</td>\n",
       "      <td>Torgersen</td>\n",
       "      <td>40.3</td>\n",
       "      <td>18.0</td>\n",
       "      <td>195.0</td>\n",
       "      <td>3250.0</td>\n",
       "      <td>female</td>\n",
       "      <td>2007</td>\n",
       "    </tr>\n",
       "    <tr>\n",
       "      <th>4</th>\n",
       "      <td>Adelie</td>\n",
       "      <td>Torgersen</td>\n",
       "      <td>36.7</td>\n",
       "      <td>19.3</td>\n",
       "      <td>193.0</td>\n",
       "      <td>3450.0</td>\n",
       "      <td>female</td>\n",
       "      <td>2007</td>\n",
       "    </tr>\n",
       "    <tr>\n",
       "      <th>5</th>\n",
       "      <td>Adelie</td>\n",
       "      <td>Torgersen</td>\n",
       "      <td>39.3</td>\n",
       "      <td>20.6</td>\n",
       "      <td>190.0</td>\n",
       "      <td>3650.0</td>\n",
       "      <td>male</td>\n",
       "      <td>2007</td>\n",
       "    </tr>\n",
       "    <tr>\n",
       "      <th>6</th>\n",
       "      <td>Adelie</td>\n",
       "      <td>Torgersen</td>\n",
       "      <td>38.9</td>\n",
       "      <td>17.8</td>\n",
       "      <td>181.0</td>\n",
       "      <td>3625.0</td>\n",
       "      <td>female</td>\n",
       "      <td>2007</td>\n",
       "    </tr>\n",
       "    <tr>\n",
       "      <th>7</th>\n",
       "      <td>Adelie</td>\n",
       "      <td>Torgersen</td>\n",
       "      <td>39.2</td>\n",
       "      <td>19.6</td>\n",
       "      <td>195.0</td>\n",
       "      <td>4675.0</td>\n",
       "      <td>male</td>\n",
       "      <td>2007</td>\n",
       "    </tr>\n",
       "    <tr>\n",
       "      <th>12</th>\n",
       "      <td>Adelie</td>\n",
       "      <td>Torgersen</td>\n",
       "      <td>41.1</td>\n",
       "      <td>17.6</td>\n",
       "      <td>182.0</td>\n",
       "      <td>3200.0</td>\n",
       "      <td>female</td>\n",
       "      <td>2007</td>\n",
       "    </tr>\n",
       "    <tr>\n",
       "      <th>13</th>\n",
       "      <td>Adelie</td>\n",
       "      <td>Torgersen</td>\n",
       "      <td>38.6</td>\n",
       "      <td>21.2</td>\n",
       "      <td>191.0</td>\n",
       "      <td>3800.0</td>\n",
       "      <td>male</td>\n",
       "      <td>2007</td>\n",
       "    </tr>\n",
       "    <tr>\n",
       "      <th>14</th>\n",
       "      <td>Adelie</td>\n",
       "      <td>Torgersen</td>\n",
       "      <td>34.6</td>\n",
       "      <td>21.1</td>\n",
       "      <td>198.0</td>\n",
       "      <td>4400.0</td>\n",
       "      <td>male</td>\n",
       "      <td>2007</td>\n",
       "    </tr>\n",
       "  </tbody>\n",
       "</table>\n",
       "</div>"
      ],
      "text/plain": [
       "   species     island  bill_length_mm  bill_depth_mm  flipper_length_mm  \\\n",
       "0   Adelie  Torgersen            39.1           18.7              181.0   \n",
       "1   Adelie  Torgersen            39.5           17.4              186.0   \n",
       "2   Adelie  Torgersen            40.3           18.0              195.0   \n",
       "4   Adelie  Torgersen            36.7           19.3              193.0   \n",
       "5   Adelie  Torgersen            39.3           20.6              190.0   \n",
       "6   Adelie  Torgersen            38.9           17.8              181.0   \n",
       "7   Adelie  Torgersen            39.2           19.6              195.0   \n",
       "12  Adelie  Torgersen            41.1           17.6              182.0   \n",
       "13  Adelie  Torgersen            38.6           21.2              191.0   \n",
       "14  Adelie  Torgersen            34.6           21.1              198.0   \n",
       "\n",
       "    body_mass_g     sex  year  \n",
       "0        3750.0    male  2007  \n",
       "1        3800.0  female  2007  \n",
       "2        3250.0  female  2007  \n",
       "4        3450.0  female  2007  \n",
       "5        3650.0    male  2007  \n",
       "6        3625.0  female  2007  \n",
       "7        4675.0    male  2007  \n",
       "12       3200.0  female  2007  \n",
       "13       3800.0    male  2007  \n",
       "14       4400.0    male  2007  "
      ]
     },
     "execution_count": 4,
     "metadata": {},
     "output_type": "execute_result"
    }
   ],
   "source": [
    "##. Loading the penguin data\n",
    "df = load_penguins()\n",
    "df = df.dropna().copy()\n",
    "df.head(10)"
   ]
  },
  {
   "cell_type": "markdown",
   "id": "f1ab5dc4-97e6-484b-aaa8-573c809d7fcc",
   "metadata": {},
   "source": [
    "## Preparing the data for training the model\n",
    "\n",
    "We want our data to be loaded into PyTorch tensors so we can build and train a pytorch model"
   ]
  },
  {
   "cell_type": "code",
   "execution_count": 5,
   "id": "c0277fa5-9eaa-48fd-ac86-4516e9eadee4",
   "metadata": {},
   "outputs": [],
   "source": [
    "##. Prepare to pre-process the target labels\n",
    "target_label_encoder = preprocessing.LabelEncoder()\n",
    "\n",
    "##. Get the variable data into numpy format\n",
    "x_vars = ['bill_length_mm', 'bill_depth_mm', 'flipper_length_mm', 'body_mass_g']\n",
    "x = df[x_vars].values\n",
    "\n",
    "##. Encode the target variables as integers\n",
    "y = target_label_encoder.fit_transform(df['species'])\n",
    "\n",
    "##. Keep track of the actual labels for later\n",
    "species_labels = target_label_encoder.classes_\n",
    "\n",
    "##. Make the variables and targets into PyTorch tensors\n",
    "x = torch.tensor(x, device=device, dtype=torch.float32)\n",
    "y = torch.tensor(y, device=device, dtype=torch.long)"
   ]
  },
  {
   "cell_type": "markdown",
   "id": "d85a54ae-0ff4-4396-9c63-14883f9c2d9b",
   "metadata": {},
   "source": [
    "## Building a model\n",
    "For the sake of practice, this is a simple sequential neural network with two hidden layers.\n",
    "\n",
    "I'm using `CrossEntropyLoss` as my loss criterion because this is a multi-classification task."
   ]
  },
  {
   "cell_type": "code",
   "execution_count": 6,
   "id": "04affdda-a913-44e2-b950-457cb58902db",
   "metadata": {},
   "outputs": [],
   "source": [
    "## Build a sequental model using PyTorch\n",
    "model = nn.Sequential(\n",
    "    ##. Input layer\n",
    "    ##.     Inputs: Match the shape of variables\n",
    "    ##.     Outputs: 200\n",
    "    ##.     Activation: ReLU\n",
    "    nn.Linear(x.shape[1], 200),\n",
    "    nn.ReLU(),\n",
    "    ##. Hidden layer 1: \n",
    "    ##.     Inputs: 200 (matches output of previous layer)\n",
    "    ##.     Outputs: 50\n",
    "    ##.     Activation: ReLU\n",
    "    nn.Linear(200,50),\n",
    "    nn.ReLU(),\n",
    "    ##. Hidden layer 2: \n",
    "    ##.     Inputs: 50 (matches output of previous layer)\n",
    "    ##.     Outputs: 25\n",
    "    ##.     Activation: ReLU\n",
    "    nn.Linear(50,25),\n",
    "    nn.ReLU(),\n",
    "    ##. Output Layer\n",
    "    ##.    Inputs: 12\n",
    "    ##.    Outputs: Match the number of output classes\n",
    "    ##.    Activation: LogSoftmax (determined by the choice of criterion, see below)\n",
    "    nn.Linear(25,len(species_labels))\n",
    ")\n",
    "\n",
    "##. Send the model to the device\n",
    "##. Info: https://stackoverflow.com/questions/59560043/what-is-the-difference-between-model-todevice-and-model-model-todevice\n",
    "model = model.to(device)\n",
    "\n",
    "##. Deine the loss criterion\n",
    "##. Note: CrossEntropyLoss combines nn.LogSoftmax() and nn.NLLLoss() so don't use Softmax in the model\n",
    "criterion = nn.CrossEntropyLoss()\n",
    "\n",
    "##. Define and Optimizer and learning rate\n",
    "optimizer = torch.optim.Adam(model.parameters(), lr=0.0001)"
   ]
  },
  {
   "cell_type": "markdown",
   "id": "b879f9eb-2627-4e5e-8a22-7bd766da5d58",
   "metadata": {},
   "source": [
    "## Training the model\n",
    "Here we train the model, and improve it over a number of epochs using gradient descent."
   ]
  },
  {
   "cell_type": "code",
   "execution_count": 7,
   "id": "154f444e-fb36-4d84-b323-0bb97f5fd0fe",
   "metadata": {},
   "outputs": [
    {
     "name": "stdout",
     "output_type": "stream",
     "text": [
      "Epoch 0, loss: 60.247196197509766\n",
      "Epoch 250, loss: 0.8229854702949524\n",
      "Epoch 500, loss: 0.7576754689216614\n",
      "Epoch 750, loss: 0.70575350522995\n",
      "Epoch 1000, loss: 0.6589992642402649\n",
      "Epoch 1250, loss: 0.6120021939277649\n",
      "Epoch 1500, loss: 0.5639272928237915\n",
      "Epoch 1750, loss: 0.51280677318573\n",
      "Epoch 2000, loss: 0.4596543312072754\n",
      "Epoch 2250, loss: 0.40567904710769653\n",
      "Epoch 2500, loss: 0.35448983311653137\n",
      "Epoch 2750, loss: 0.3093382716178894\n",
      "Epoch 3000, loss: 0.26653164625167847\n",
      "Epoch 3250, loss: 0.23120832443237305\n",
      "Epoch 3500, loss: 0.197788268327713\n",
      "Epoch 3750, loss: 0.1699349582195282\n",
      "Epoch 4000, loss: 0.14575821161270142\n",
      "Epoch 4250, loss: 0.12545262277126312\n",
      "Epoch 4500, loss: 0.10858079046010971\n",
      "Epoch 4750, loss: 0.10102535039186478\n"
     ]
    }
   ],
   "source": [
    "##. Switch model into training mode\n",
    "model.train()\n",
    "\n",
    "for epoch in range(5000):\n",
    "    ## Zero out gradient between epochs\n",
    "    optimizer.zero_grad()\n",
    "    ## Compute the output of this epoch of the model on x\n",
    "    out = model(x)\n",
    "    ## Compute the loss at this epoch\n",
    "    loss = criterion(out, y)\n",
    "    ## Backpropogate the gradient of the loss function at x\n",
    "    loss.backward()\n",
    "    ## Step the model parameters in the direction of the gradient\n",
    "    optimizer.step()\n",
    "\n",
    "    ## Print out progress every 250 epochs\n",
    "    if epoch % 250 == 0:\n",
    "        print(f\"Epoch {epoch}, loss: {loss.item()}\")"
   ]
  },
  {
   "cell_type": "markdown",
   "id": "03194101-24d9-4942-9adb-73012607a7a7",
   "metadata": {},
   "source": [
    "## Evaluating the model"
   ]
  },
  {
   "cell_type": "code",
   "execution_count": 8,
   "id": "8e7262c6-2381-4e8c-866f-eb61b6ee91fe",
   "metadata": {},
   "outputs": [
    {
     "name": "stdout",
     "output_type": "stream",
     "text": [
      "Accuracy: 0.975975975975976\n"
     ]
    }
   ],
   "source": [
    "##. Swtich model into evaluation mode\n",
    "model.eval()\n",
    "\n",
    "##. Use the model to predict the species on our data\n",
    "pred = model(x)\n",
    "\n",
    "##. Grab the predicted classes for scoring purposes\n",
    "_, predict_classes = torch.max(pred, 1)\n",
    "\n",
    "##. Calculate the accuracy score for our predictions\n",
    "correct = accuracy_score(y.cpu().detach(), predict_classes.cpu().detach())\n",
    "print(f\"Accuracy: {correct}\")"
   ]
  },
  {
   "cell_type": "markdown",
   "id": "6d98ccc9-7d04-44be-8c87-72057fb98bc0",
   "metadata": {},
   "source": [
    "Not too shabby!"
   ]
  },
  {
   "cell_type": "code",
   "execution_count": null,
   "id": "585374f8-b0c4-4b45-a095-cba112ed0591",
   "metadata": {},
   "outputs": [],
   "source": []
  }
 ],
 "metadata": {
  "kernelspec": {
   "display_name": "Python 3.11 (torch)",
   "language": "python",
   "name": "pytorch"
  },
  "language_info": {
   "codemirror_mode": {
    "name": "ipython",
    "version": 3
   },
   "file_extension": ".py",
   "mimetype": "text/x-python",
   "name": "python",
   "nbconvert_exporter": "python",
   "pygments_lexer": "ipython3",
   "version": "3.11.7"
  }
 },
 "nbformat": 4,
 "nbformat_minor": 5
}
