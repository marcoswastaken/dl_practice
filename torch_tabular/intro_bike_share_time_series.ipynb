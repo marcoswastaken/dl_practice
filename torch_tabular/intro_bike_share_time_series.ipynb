{
 "cells": [
  {
   "cell_type": "code",
   "execution_count": 1,
   "id": "1d81c775-1184-4cd8-9903-19a6fe7a8e39",
   "metadata": {},
   "outputs": [],
   "source": [
    "import numpy as np\n",
    "import torch"
   ]
  },
  {
   "cell_type": "code",
   "execution_count": 4,
   "id": "e3a6154b-7d49-4b03-8fd3-fd5fbeb0b57c",
   "metadata": {},
   "outputs": [
    {
     "data": {
      "text/plain": [
       "(tensor([[1.0000e+00, 1.0000e+00, 1.0000e+00,  ..., 3.0000e+00, 1.3000e+01,\n",
       "          1.6000e+01],\n",
       "         [2.0000e+00, 1.0000e+00, 1.0000e+00,  ..., 8.0000e+00, 3.2000e+01,\n",
       "          4.0000e+01],\n",
       "         [3.0000e+00, 1.0000e+00, 1.0000e+00,  ..., 5.0000e+00, 2.7000e+01,\n",
       "          3.2000e+01],\n",
       "         ...,\n",
       "         [1.7377e+04, 3.1000e+01, 1.0000e+00,  ..., 7.0000e+00, 8.3000e+01,\n",
       "          9.0000e+01],\n",
       "         [1.7378e+04, 3.1000e+01, 1.0000e+00,  ..., 1.3000e+01, 4.8000e+01,\n",
       "          6.1000e+01],\n",
       "         [1.7379e+04, 3.1000e+01, 1.0000e+00,  ..., 1.2000e+01, 3.7000e+01,\n",
       "          4.9000e+01]]),\n",
       " torch.Size([17520, 17]),\n",
       " (17, 1))"
      ]
     },
     "execution_count": 4,
     "metadata": {},
     "output_type": "execute_result"
    }
   ],
   "source": [
    "## Import data\n",
    "bikes_path = \"../practice_data/bike-sharing-dataset/hour-fixed.csv\"\n",
    "bikes_numpy = np.loadtxt(\n",
    "    bikes_path,\n",
    "    dtype=np.float32,\n",
    "    delimiter=\",\",\n",
    "    skiprows=1,\n",
    "    converters={1: lambda x: float(x[8:10])} ## Gets the day of month as a float\n",
    ")\n",
    "bikes = torch.from_numpy(bikes_numpy)\n",
    "bikes, bikes.shape, bikes.stride()"
   ]
  },
  {
   "cell_type": "markdown",
   "id": "0f83c1da-c40d-4ed4-94da-868b0a7d7d97",
   "metadata": {},
   "source": [
    "For every hour, the dataset reports the following variables:\n",
    "\n",
    "0) Index of record: instant\n",
    "1) Day of month: day\n",
    "2) Season: season (1: spring, 2: summer, 3: fall, 4: winter)\n",
    "3) Year: yr (0: 2011, 1: 2012)\n",
    "4) Month:mnth(1to12)\n",
    "5) Hour:hr(0to23)\n",
    "6) Holiday status: holiday\n",
    "7) Day of the week: weekday\n",
    "8) Working day status: workingday\n",
    "9) Weather situation: weathersit (1: clear, 2:mist, 3: light rain/snow, 4: heavy\n",
    "rain/snow)\n",
    "10) Temperature in °C: temp\n",
    "11) Perceived temperature in °C: atemp\n",
    "12) Humidity:hum\n",
    "13) Wind speed: windspeed\n",
    "14) Number of casual users: casual\n",
    "15) Number of registered users: registered\n",
    "16) Count of rental bikes: cnt"
   ]
  },
  {
   "cell_type": "code",
   "execution_count": 19,
   "id": "91216d9a-39e5-46ec-8e53-bf7643e9da81",
   "metadata": {},
   "outputs": [
    {
     "data": {
      "text/plain": [
       "(torch.Size([730, 24, 17]), (408, 17, 1))"
      ]
     },
     "execution_count": 19,
     "metadata": {},
     "output_type": "execute_result"
    }
   ],
   "source": [
    "## Group data into 24 hour increments\n",
    "daily_bikes = bikes.view(-1,24,bikes.shape[1])\n",
    "daily_bikes.shape, daily_bikes.stride()"
   ]
  },
  {
   "cell_type": "code",
   "execution_count": 20,
   "id": "035d0658-5423-4eab-ab91-df3ce72b3828",
   "metadata": {},
   "outputs": [
    {
     "data": {
      "text/plain": [
       "(torch.Size([730, 17, 24]), (408, 1, 17))"
      ]
     },
     "execution_count": 20,
     "metadata": {},
     "output_type": "execute_result"
    }
   ],
   "source": [
    "## Data is now arranged as Sample X Days X Categories\n",
    "## but we want it to be Sample X Categories X Days\n",
    "daily_bikes = daily_bikes.transpose(1,2)\n",
    "daily_bikes.shape, daily_bikes.stride()"
   ]
  },
  {
   "cell_type": "markdown",
   "id": "b8ff241d-3a64-49ef-aade-369a7c00ea6d",
   "metadata": {},
   "source": [
    "# Data Prep\n",
    "## One-hot the weather condition\n",
    "Here we're just practicing by doing this for the first day in the data"
   ]
  },
  {
   "cell_type": "code",
   "execution_count": 26,
   "id": "d281b8df-2510-4707-a6ea-1eba0576bd88",
   "metadata": {},
   "outputs": [
    {
     "data": {
      "text/plain": [
       "tensor([1, 1, 1, 1, 1, 2, 1, 1, 1, 1, 1, 1, 1, 2, 2, 2, 2, 2, 3, 3, 2, 2, 2, 2])"
      ]
     },
     "execution_count": 26,
     "metadata": {},
     "output_type": "execute_result"
    }
   ],
   "source": [
    "first_day = bikes[:24].long()\n",
    "weather_onehot = torch.zeros(first_day.shape[0], 4)\n",
    "first_day[:,9]"
   ]
  },
  {
   "cell_type": "code",
   "execution_count": 27,
   "id": "d666e8b4-66ac-411c-a161-78f2c2a80c6b",
   "metadata": {},
   "outputs": [
    {
     "data": {
      "text/plain": [
       "tensor([[1., 0., 0., 0.],\n",
       "        [1., 0., 0., 0.],\n",
       "        [1., 0., 0., 0.],\n",
       "        [1., 0., 0., 0.],\n",
       "        [1., 0., 0., 0.],\n",
       "        [0., 1., 0., 0.],\n",
       "        [1., 0., 0., 0.],\n",
       "        [1., 0., 0., 0.],\n",
       "        [1., 0., 0., 0.],\n",
       "        [1., 0., 0., 0.],\n",
       "        [1., 0., 0., 0.],\n",
       "        [1., 0., 0., 0.],\n",
       "        [1., 0., 0., 0.],\n",
       "        [0., 1., 0., 0.],\n",
       "        [0., 1., 0., 0.],\n",
       "        [0., 1., 0., 0.],\n",
       "        [0., 1., 0., 0.],\n",
       "        [0., 1., 0., 0.],\n",
       "        [0., 0., 1., 0.],\n",
       "        [0., 0., 1., 0.],\n",
       "        [0., 1., 0., 0.],\n",
       "        [0., 1., 0., 0.],\n",
       "        [0., 1., 0., 0.],\n",
       "        [0., 1., 0., 0.]])"
      ]
     },
     "execution_count": 27,
     "metadata": {},
     "output_type": "execute_result"
    }
   ],
   "source": [
    "weather_onehot.scatter_(\n",
    "    dim=1,\n",
    "    index = first_day[:,9].unsqueeze(1).long() -1,\n",
    "    value = 1.0\n",
    ")"
   ]
  },
  {
   "cell_type": "code",
   "execution_count": 28,
   "id": "f049efb6-3c9a-4561-9673-bbcbcbd8b04c",
   "metadata": {},
   "outputs": [
    {
     "data": {
      "text/plain": [
       "tensor([[ 1.0000,  1.0000,  1.0000,  0.0000,  1.0000,  0.0000,  0.0000,  6.0000,\n",
       "          0.0000,  1.0000,  0.2400,  0.2879,  0.8100,  0.0000,  3.0000, 13.0000,\n",
       "         16.0000,  1.0000,  0.0000,  0.0000,  0.0000]])"
      ]
     },
     "execution_count": 28,
     "metadata": {},
     "output_type": "execute_result"
    }
   ],
   "source": [
    "## Concatenate this data with the original data\n",
    "torch.cat((bikes[:24], weather_onehot), 1)[:1]"
   ]
  },
  {
   "cell_type": "markdown",
   "id": "fc7a7975-6e82-4503-96b8-fb8412a6ebaf",
   "metadata": {},
   "source": [
    "## Onehot on the whole dataset"
   ]
  },
  {
   "cell_type": "code",
   "execution_count": 29,
   "id": "f0952951-fbf9-4b68-924f-301a609015fc",
   "metadata": {},
   "outputs": [],
   "source": [
    "## Initialize the zeros\n",
    "daily_weather_onehot = torch.zeros(\n",
    "    daily_bikes.shape[0],\n",
    "    4,\n",
    "    daily_bikes.shape[2]\n",
    ")"
   ]
  },
  {
   "cell_type": "code",
   "execution_count": 31,
   "id": "c53c5f75-86e6-4b41-a24d-4a9b05f56505",
   "metadata": {},
   "outputs": [
    {
     "data": {
      "text/plain": [
       "torch.Size([730, 4, 24])"
      ]
     },
     "execution_count": 31,
     "metadata": {},
     "output_type": "execute_result"
    }
   ],
   "source": [
    "daily_weather_onehot.shape"
   ]
  },
  {
   "cell_type": "code",
   "execution_count": 32,
   "id": "13c91187-ccc5-4266-8d02-b1daf5b2d0d0",
   "metadata": {},
   "outputs": [
    {
     "data": {
      "text/plain": [
       "tensor([[1., 1., 1.,  ..., 2., 2., 2.],\n",
       "        [2., 2., 2.,  ..., 1., 1., 1.],\n",
       "        [1., 1., 1.,  ..., 1., 1., 1.],\n",
       "        ...,\n",
       "        [2., 2., 2.,  ..., 2., 2., 2.],\n",
       "        [2., 2., 2.,  ..., 1., 1., 1.],\n",
       "        [1., 1., 1.,  ..., 1., 1., 1.]])"
      ]
     },
     "execution_count": 32,
     "metadata": {},
     "output_type": "execute_result"
    }
   ],
   "source": [
    "daily_bikes[:,9,:]"
   ]
  },
  {
   "cell_type": "code",
   "execution_count": 33,
   "id": "c666d732-08a8-4538-83a4-55bccd3fbcb6",
   "metadata": {},
   "outputs": [
    {
     "data": {
      "text/plain": [
       "torch.Size([730, 4, 24])"
      ]
     },
     "execution_count": 33,
     "metadata": {},
     "output_type": "execute_result"
    }
   ],
   "source": [
    "## Scatter the weather state into the onehot tensor\n",
    "daily_weather_onehot.scatter(\n",
    "    dim=1,\n",
    "    index=daily_bikes[:,9,:].unsqueeze(1).long() - 1,\n",
    "    value=1.0\n",
    ")\n",
    "daily_weather_onehot.shape"
   ]
  },
  {
   "cell_type": "code",
   "execution_count": 34,
   "id": "0ee1d68d-13ed-44c5-8f12-b8f0937e405e",
   "metadata": {},
   "outputs": [
    {
     "data": {
      "text/plain": [
       "torch.Size([730, 21, 24])"
      ]
     },
     "execution_count": 34,
     "metadata": {},
     "output_type": "execute_result"
    }
   ],
   "source": [
    "## Concat to the Categories dimension\n",
    "daily_bikes = torch.cat((daily_bikes, daily_weather_onehot), dim=1)\n",
    "daily_bikes.shape"
   ]
  },
  {
   "cell_type": "markdown",
   "id": "2a026ef5-f171-4446-9ffc-237fa602e0c9",
   "metadata": {},
   "source": [
    "## Rescaling Temps\n",
    "Here are two ways to rescale the temps:\n",
    "\n",
    "* Map range to \\[0.0, 1.0\\]\n",
    "* Normalize around zero (if our data is \"normal\", then ~70\\% will like in the interval \\[-1,1\\])"
   ]
  },
  {
   "cell_type": "code",
   "execution_count": 35,
   "id": "23d6191f-88dd-41ac-81d9-0d4e9ca6c2a3",
   "metadata": {},
   "outputs": [],
   "source": [
    "## Map to [0,1]\n",
    "temp = daily_bikes[:, 10, :]\n",
    "temp_min = torch.min(temp)\n",
    "temp_max = torch.max(temp)\n",
    "new_temp = ((daily_bikes[:, 10, :] - temp_min)\n",
    "            / (temp_max - temp_min))"
   ]
  },
  {
   "cell_type": "code",
   "execution_count": 36,
   "id": "8992c2c8-f43d-48a6-86a4-8e85e94a6071",
   "metadata": {},
   "outputs": [],
   "source": [
    "## Normalize\n",
    "temp = daily_bikes[:, 10, :]\n",
    "new_temp = ((daily_bikes[:, 10, :] - torch.mean(temp))\n",
    "                                 / torch.std(temp))"
   ]
  },
  {
   "cell_type": "code",
   "execution_count": null,
   "id": "0a52b679-dc51-42a5-82b3-094f9f6926ef",
   "metadata": {},
   "outputs": [],
   "source": []
  }
 ],
 "metadata": {
  "kernelspec": {
   "display_name": "Python 3.11 (torch)",
   "language": "python",
   "name": "pytorch"
  },
  "language_info": {
   "codemirror_mode": {
    "name": "ipython",
    "version": 3
   },
   "file_extension": ".py",
   "mimetype": "text/x-python",
   "name": "python",
   "nbconvert_exporter": "python",
   "pygments_lexer": "ipython3",
   "version": "3.11.7"
  }
 },
 "nbformat": 4,
 "nbformat_minor": 5
}
