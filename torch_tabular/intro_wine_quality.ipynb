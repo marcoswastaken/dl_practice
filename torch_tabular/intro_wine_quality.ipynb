{
 "cells": [
  {
   "cell_type": "code",
   "execution_count": 1,
   "id": "f25963af-8772-49c8-9b00-826fda95d88c",
   "metadata": {},
   "outputs": [],
   "source": [
    "## PyTorch doesn't fully support MPS devices yet (as of Feb 5, 2024)\n",
    "## See: https://github.com/pytorch/pytorch/issues/77764#\n",
    "## The following allows PyTorch to fall back to the CPU whenever it\n",
    "## encounters an unsupported operation\n",
    "import os\n",
    "os.environ[\"PYTORCH_ENABLE_MPS_FALLBACK\"] = \"1\""
   ]
  },
  {
   "cell_type": "code",
   "execution_count": 2,
   "id": "27b7fdc1-0f16-4cd4-b815-a004a4d68068",
   "metadata": {},
   "outputs": [],
   "source": [
    "import csv\n",
    "import torch\n",
    "import numpy as np"
   ]
  },
  {
   "cell_type": "markdown",
   "id": "7e1fad38-b52f-4cbd-bd45-096f68bb5bc7",
   "metadata": {},
   "source": [
    "# Importing the Data"
   ]
  },
  {
   "cell_type": "code",
   "execution_count": 3,
   "id": "2583be52-b02d-44af-adea-828051f2164c",
   "metadata": {},
   "outputs": [
    {
     "data": {
      "text/plain": [
       "array([[ 7.  ,  0.27,  0.36, ...,  0.45,  8.8 ,  6.  ],\n",
       "       [ 6.3 ,  0.3 ,  0.34, ...,  0.49,  9.5 ,  6.  ],\n",
       "       [ 8.1 ,  0.28,  0.4 , ...,  0.44, 10.1 ,  6.  ],\n",
       "       ...,\n",
       "       [ 6.5 ,  0.24,  0.19, ...,  0.46,  9.4 ,  6.  ],\n",
       "       [ 5.5 ,  0.29,  0.3 , ...,  0.38, 12.8 ,  7.  ],\n",
       "       [ 6.  ,  0.21,  0.38, ...,  0.32, 11.8 ,  6.  ]], dtype=float32)"
      ]
     },
     "execution_count": 3,
     "metadata": {},
     "output_type": "execute_result"
    }
   ],
   "source": [
    "## Load in the data\n",
    "wine_path = \"../practice_data/tabular_wine/winequality-white.csv\"\n",
    "wineq_numpy = np.loadtxt(wine_path, dtype=np.float32, \n",
    "                         delimiter=\";\", skiprows=1)\n",
    "wineq_numpy"
   ]
  },
  {
   "cell_type": "code",
   "execution_count": 5,
   "id": "c876af7f-494e-43ef-81b4-03034dbc7ca9",
   "metadata": {},
   "outputs": [
    {
     "data": {
      "text/plain": [
       "((4898, 12),\n",
       " ['fixed acidity',\n",
       "  'volatile acidity',\n",
       "  'citric acid',\n",
       "  'residual sugar',\n",
       "  'chlorides',\n",
       "  'free sulfur dioxide',\n",
       "  'total sulfur dioxide',\n",
       "  'density',\n",
       "  'pH',\n",
       "  'sulphates',\n",
       "  'alcohol',\n",
       "  'quality'])"
      ]
     },
     "execution_count": 5,
     "metadata": {},
     "output_type": "execute_result"
    }
   ],
   "source": [
    "## Verify all of the data was loaded as expected\n",
    "col_list = next(csv.reader(open(wine_path), delimiter=\";\"))\n",
    "wineq_numpy.shape, col_list"
   ]
  },
  {
   "cell_type": "code",
   "execution_count": 6,
   "id": "41f09c70-ffb6-469b-8264-1bb977c94e1f",
   "metadata": {},
   "outputs": [
    {
     "data": {
      "text/plain": [
       "(torch.Size([4898, 12]), torch.float32)"
      ]
     },
     "execution_count": 6,
     "metadata": {},
     "output_type": "execute_result"
    }
   ],
   "source": [
    "## Load data into a PyTorch tensor\n",
    "wineq = torch.from_numpy(wineq_numpy)\n",
    "wineq.shape, wineq.dtype"
   ]
  },
  {
   "cell_type": "markdown",
   "id": "f1f3d417-a4f3-44d6-a6c9-ed88f2337820",
   "metadata": {},
   "source": [
    "# Organizing the data"
   ]
  },
  {
   "cell_type": "code",
   "execution_count": 13,
   "id": "c7d6c8ee-b823-4d62-8c6f-959452508fd6",
   "metadata": {},
   "outputs": [],
   "source": [
    "## Separate data from target\n",
    "data = wineq[:, :-1] ## All rows, from all columns except the last\n",
    "target =  wineq[:,-1].long() ## All rows from only the last column"
   ]
  },
  {
   "cell_type": "code",
   "execution_count": 14,
   "id": "07970d9d-5d5f-44d5-a7d6-55ca8fd2632f",
   "metadata": {},
   "outputs": [
    {
     "data": {
      "text/plain": [
       "(torch.Size([4898, 11]), torch.Size([4898]))"
      ]
     },
     "execution_count": 14,
     "metadata": {},
     "output_type": "execute_result"
    }
   ],
   "source": [
    "data.shape, target.shape"
   ]
  },
  {
   "cell_type": "markdown",
   "id": "d0787cac-2923-4487-b41a-55466ad9b85f",
   "metadata": {},
   "source": [
    "We had to decide how wanted the taget to be encoded. Two immediate options were\n",
    "\n",
    "* As an integer score (which is what we chose)\n",
    "* By One-hot encoding scores as vectors\n",
    "\n",
    "Here, *integer score* seemed appriate because it preserves order and distance. Higher score actually mean higher quality, and presumably the difference in quality from 2 to 4 should be silimiar to the difference from 2 to 6. This is in contrast to categorical variables such as maybe \"grape type\"."
   ]
  },
  {
   "cell_type": "code",
   "execution_count": 16,
   "id": "cc05e171-321d-48d8-9e6d-a7e8261f2e74",
   "metadata": {},
   "outputs": [
    {
     "data": {
      "text/plain": [
       "tensor([[0., 0., 0.,  ..., 0., 0., 0.],\n",
       "        [0., 0., 0.,  ..., 0., 0., 0.],\n",
       "        [0., 0., 0.,  ..., 0., 0., 0.],\n",
       "        ...,\n",
       "        [0., 0., 0.,  ..., 0., 0., 0.],\n",
       "        [0., 0., 0.,  ..., 1., 0., 0.],\n",
       "        [0., 0., 0.,  ..., 0., 0., 0.]])"
      ]
     },
     "execution_count": 16,
     "metadata": {},
     "output_type": "execute_result"
    }
   ],
   "source": [
    "## Here is how one-hot encoding can be achieved with PyTorch tensors\n",
    "\n",
    "## Initialize a tensor of zeros with as many rows as our target data\n",
    "## Each row being length 10, one spot for each taget category (score)\n",
    "target_onehot= torch.zeros(target.shape[0], 10)\n",
    "\n",
    "## Use `scatter_` to fill the value in (in-place)\n",
    "## Along dimension 1\n",
    "## At the indices indicated (here, the score of the wine)\n",
    "## Put the value to be scattered at that index (could have been a set of elements)\n",
    "target_onehot.scatter_(1,target.unsqueeze(1), 1.0)"
   ]
  },
  {
   "cell_type": "code",
   "execution_count": 22,
   "id": "efe8504f-3fcc-4f27-bcc7-0cec9fd0cd31",
   "metadata": {},
   "outputs": [
    {
     "data": {
      "text/plain": [
       "(tensor([6.8548e+00, 2.7824e-01, 3.3419e-01, 6.3914e+00, 4.5772e-02, 3.5308e+01,\n",
       "         1.3836e+02, 9.9403e-01, 3.1883e+00, 4.8985e-01, 1.0514e+01]),\n",
       " tensor([7.1211e-01, 1.0160e-02, 1.4646e-02, 2.5726e+01, 4.7733e-04, 2.8924e+02,\n",
       "         1.8061e+03, 8.9455e-06, 2.2801e-02, 1.3025e-02, 1.5144e+00]))"
      ]
     },
     "execution_count": 22,
     "metadata": {},
     "output_type": "execute_result"
    }
   ],
   "source": [
    "## Gathering statistics from data\n",
    "data_mean = torch.mean(data, dim=0)\n",
    "data_var = torch.var(data, dim=0)\n",
    "data_mean, data_var"
   ]
  },
  {
   "cell_type": "code",
   "execution_count": 23,
   "id": "0ca08400-a574-4378-9697-adee7bb10646",
   "metadata": {},
   "outputs": [
    {
     "data": {
      "text/plain": [
       "tensor([[ 1.7208e-01, -8.1761e-02,  2.1326e-01,  ..., -1.2468e+00,\n",
       "         -3.4915e-01, -1.3930e+00],\n",
       "        [-6.5743e-01,  2.1587e-01,  4.7996e-02,  ...,  7.3995e-01,\n",
       "          1.3422e-03, -8.2419e-01],\n",
       "        [ 1.4756e+00,  1.7450e-02,  5.4378e-01,  ...,  4.7505e-01,\n",
       "         -4.3677e-01, -3.3663e-01],\n",
       "        ...,\n",
       "        [-4.2043e-01, -3.7940e-01, -1.1915e+00,  ..., -1.3130e+00,\n",
       "         -2.6153e-01, -9.0545e-01],\n",
       "        [-1.6054e+00,  1.1666e-01, -2.8253e-01,  ...,  1.0049e+00,\n",
       "         -9.6251e-01,  1.8574e+00],\n",
       "        [-1.0129e+00, -6.7703e-01,  3.7852e-01,  ...,  4.7505e-01,\n",
       "         -1.4882e+00,  1.0448e+00]])"
      ]
     },
     "execution_count": 23,
     "metadata": {},
     "output_type": "execute_result"
    }
   ],
   "source": [
    "## Nornmalizing the data\n",
    "data_normalized = (data-data_mean)/torch.sqrt(data_var)\n",
    "data_normalized"
   ]
  },
  {
   "cell_type": "markdown",
   "id": "e7119d8a-2179-40c9-87a5-f172724bdaa9",
   "metadata": {},
   "source": [
    "# Exploring the Data"
   ]
  },
  {
   "cell_type": "code",
   "execution_count": 25,
   "id": "c74fcb46-595f-4f92-8a69-cdf77fb7e956",
   "metadata": {},
   "outputs": [
    {
     "data": {
      "text/plain": [
       "(torch.Size([4898]), torch.bool, tensor(20))"
      ]
     },
     "execution_count": 25,
     "metadata": {},
     "output_type": "execute_result"
    }
   ],
   "source": [
    "## Get the indices that correspond to crappy wine\n",
    "bad_indices = (target <= 3)\n",
    "bad_indices.shape, bad_indices.dtype, bad_indices.sum()"
   ]
  },
  {
   "cell_type": "code",
   "execution_count": 26,
   "id": "80286aac-4072-4f0c-b629-46c2e3ee48c3",
   "metadata": {},
   "outputs": [
    {
     "data": {
      "text/plain": [
       "torch.Size([20, 11])"
      ]
     },
     "execution_count": 26,
     "metadata": {},
     "output_type": "execute_result"
    }
   ],
   "source": [
    "## bad_ndices is a tensor of bools with the same shape as target\n",
    "## So, we can use it for indexing\n",
    "bad_data = data[bad_indices]\n",
    "bad_data.shape"
   ]
  },
  {
   "cell_type": "code",
   "execution_count": 28,
   "id": "bdbac3c1-a97f-4216-811d-93427bab3dbe",
   "metadata": {},
   "outputs": [
    {
     "name": "stdout",
     "output_type": "stream",
     "text": [
      " 0 fixed acidity          7.60   6.89   6.73\n",
      " 1 volatile acidity       0.33   0.28   0.27\n",
      " 2 citric acid            0.34   0.34   0.33\n",
      " 3 residual sugar         6.39   6.71   5.26\n",
      " 4 chlorides              0.05   0.05   0.04\n",
      " 5 free sulfur dioxide   53.33  35.42  34.55\n",
      " 6 total sulfur dioxide 170.60 141.83 125.25\n",
      " 7 density                0.99   0.99   0.99\n",
      " 8 pH                     3.19   3.18   3.22\n",
      " 9 sulphates              0.47   0.49   0.50\n",
      "10 alcohol               10.34  10.26  11.42\n"
     ]
    }
   ],
   "source": [
    "## Group the data into categories\n",
    "bad_data = data[target <= 3]\n",
    "mid_data = data[(target > 3) & (target < 7)]\n",
    "good_data = data[target >=7]\n",
    "\n",
    "## Gather some statistics\n",
    "bad_mean = torch.mean(bad_data, dim=0)\n",
    "mid_mean = torch.mean(mid_data, dim=0)\n",
    "good_mean = torch.mean(good_data, dim=0)\n",
    "\n",
    "## View the stats\n",
    "for i, args in enumerate(zip(col_list, bad_mean, mid_mean, good_mean)):\n",
    "    print('{:2} {:20} {:6.2f} {:6.2f} {:6.2f}'.format(i, *args))"
   ]
  },
  {
   "cell_type": "markdown",
   "id": "8c4eafa1-3f93-4f1f-8edf-038cc8631945",
   "metadata": {},
   "source": [
    "At a glance it looks like sulfur dioxide could provide a good baseline indicator of wine quality. Lower total sulfur dioxide translating to higher quality wine."
   ]
  },
  {
   "cell_type": "code",
   "execution_count": 30,
   "id": "f14374c9-f28e-47c4-91c5-8ff802df2572",
   "metadata": {},
   "outputs": [
    {
     "data": {
      "text/plain": [
       "(torch.Size([4898]), torch.bool, tensor(2727))"
      ]
     },
     "execution_count": 30,
     "metadata": {},
     "output_type": "execute_result"
    }
   ],
   "source": [
    "## Pick a threshold value (mean of mid wines seems fine)\n",
    "total_sulfur_threshhold = 141.83\n",
    "\n",
    "## Get the total sulfer column data\n",
    "total_sulfur_data = data[:,6]\n",
    "\n",
    "## Predict which wines are high quality based on this threshold\n",
    "predicted_indices = torch.lt(total_sulfur_data, total_sulfur_threshhold)\n",
    "predicted_indices.shape, predicted_indices.dtype, predicted_indices.sum()"
   ]
  },
  {
   "cell_type": "code",
   "execution_count": 34,
   "id": "b6c42234-7d56-45f8-b50d-59356b19bdd2",
   "metadata": {},
   "outputs": [
    {
     "data": {
      "text/plain": [
       "(torch.Size([4898]), torch.bool, tensor(3258))"
      ]
     },
     "execution_count": 34,
     "metadata": {},
     "output_type": "execute_result"
    }
   ],
   "source": [
    "## Compare this to the actual target values\n",
    "actual_indices = (target > 5)\n",
    "actual_indices.shape, actual_indices.dtype, actual_indices.sum()"
   ]
  },
  {
   "cell_type": "markdown",
   "id": "a12621cb-e9b9-427e-a562-d8c5a00f25bd",
   "metadata": {},
   "source": [
    "It looks like our threshold predicts fewer good quality wines than the actual scores, so we can probably improve.\n",
    "\n",
    "First, though, we can see how many wines our basic threshold prediction gets correct"
   ]
  },
  {
   "cell_type": "code",
   "execution_count": 37,
   "id": "02e829b3-3ba0-43f1-b8cc-e74eb36b0c99",
   "metadata": {},
   "outputs": [
    {
     "data": {
      "text/plain": [
       "(2018, 0.74000733406674, 0.6193984039287906)"
      ]
     },
     "execution_count": 37,
     "metadata": {},
     "output_type": "execute_result"
    }
   ],
   "source": [
    "n_matches = torch.sum(actual_indices & predicted_indices).item()\n",
    "n_predicted = torch.sum(predicted_indices).item()\n",
    "n_actual = torch.sum(actual_indices).item()\n",
    "\n",
    "n_matches, n_matches/n_predicted, n_matches/n_actual"
   ]
  },
  {
   "cell_type": "markdown",
   "id": "f1d8e9d9-f051-4841-b4f4-7d76646047ce",
   "metadata": {},
   "source": [
    "* We correctly labeled 2018 wines\n",
    "* 74\\% of our predictions that wine were good were correct\n",
    "* We correctly identified ~62\\% of the good wines\n",
    "\n",
    "Not amazing."
   ]
  },
  {
   "cell_type": "code",
   "execution_count": null,
   "id": "9681d985-13ef-4820-9232-ca50796d8858",
   "metadata": {},
   "outputs": [],
   "source": []
  }
 ],
 "metadata": {
  "kernelspec": {
   "display_name": "Python 3.11 (torch)",
   "language": "python",
   "name": "pytorch"
  },
  "language_info": {
   "codemirror_mode": {
    "name": "ipython",
    "version": 3
   },
   "file_extension": ".py",
   "mimetype": "text/x-python",
   "name": "python",
   "nbconvert_exporter": "python",
   "pygments_lexer": "ipython3",
   "version": "3.11.7"
  }
 },
 "nbformat": 4,
 "nbformat_minor": 5
}
