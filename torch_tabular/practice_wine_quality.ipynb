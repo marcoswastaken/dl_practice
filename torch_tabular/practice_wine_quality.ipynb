{
 "cells": [
  {
   "cell_type": "code",
   "execution_count": 30,
   "id": "9ab91294-6fc0-4a76-8321-7731d99c7f2e",
   "metadata": {},
   "outputs": [],
   "source": [
    "import csv\n",
    "import torch\n",
    "import torch.nn as nn\n",
    "import torch.optim as optim\n",
    "import numpy as np"
   ]
  },
  {
   "cell_type": "code",
   "execution_count": 2,
   "id": "5c8fcdd9-e41a-4574-8d6b-fb0f0b7bf2a1",
   "metadata": {},
   "outputs": [
    {
     "data": {
      "text/plain": [
       "array([[ 7.  ,  0.27,  0.36, ...,  0.45,  8.8 ,  6.  ],\n",
       "       [ 6.3 ,  0.3 ,  0.34, ...,  0.49,  9.5 ,  6.  ],\n",
       "       [ 8.1 ,  0.28,  0.4 , ...,  0.44, 10.1 ,  6.  ],\n",
       "       ...,\n",
       "       [ 6.5 ,  0.24,  0.19, ...,  0.46,  9.4 ,  6.  ],\n",
       "       [ 5.5 ,  0.29,  0.3 , ...,  0.38, 12.8 ,  7.  ],\n",
       "       [ 6.  ,  0.21,  0.38, ...,  0.32, 11.8 ,  6.  ]], dtype=float32)"
      ]
     },
     "execution_count": 2,
     "metadata": {},
     "output_type": "execute_result"
    }
   ],
   "source": [
    "## Load in the data\n",
    "wine_path = \"../practice_data/tabular_wine/winequality-white.csv\"\n",
    "wineq_numpy = np.loadtxt(wine_path, dtype=np.float32, \n",
    "                         delimiter=\";\", skiprows=1)\n",
    "wineq_numpy"
   ]
  },
  {
   "cell_type": "code",
   "execution_count": 3,
   "id": "42c4f55e-6d24-4d55-b001-78de5aac33d5",
   "metadata": {},
   "outputs": [
    {
     "data": {
      "text/plain": [
       "((4898, 12),\n",
       " ['fixed acidity',\n",
       "  'volatile acidity',\n",
       "  'citric acid',\n",
       "  'residual sugar',\n",
       "  'chlorides',\n",
       "  'free sulfur dioxide',\n",
       "  'total sulfur dioxide',\n",
       "  'density',\n",
       "  'pH',\n",
       "  'sulphates',\n",
       "  'alcohol',\n",
       "  'quality'])"
      ]
     },
     "execution_count": 3,
     "metadata": {},
     "output_type": "execute_result"
    }
   ],
   "source": [
    "## Verify all of the data was loaded as expected\n",
    "col_list = next(csv.reader(open(wine_path), delimiter=\";\"))\n",
    "wineq_numpy.shape, col_list"
   ]
  },
  {
   "cell_type": "code",
   "execution_count": 4,
   "id": "13f4d490-ab1a-42c7-a2da-d465d0709f9e",
   "metadata": {},
   "outputs": [
    {
     "data": {
      "text/plain": [
       "(torch.Size([4898, 12]), torch.float32)"
      ]
     },
     "execution_count": 4,
     "metadata": {},
     "output_type": "execute_result"
    }
   ],
   "source": [
    "## Load data into a PyTorch tensor\n",
    "wineq = torch.from_numpy(wineq_numpy)\n",
    "wineq.shape, wineq.dtype"
   ]
  },
  {
   "cell_type": "code",
   "execution_count": 5,
   "id": "d0096c2b-5e63-4934-bb07-40bfd18d6e73",
   "metadata": {},
   "outputs": [],
   "source": [
    "## Separate data from target\n",
    "data = wineq[:, :-1] ## All rows, from all columns except the last\n",
    "target =  wineq[:,-1].long() ## All rows from only the last column"
   ]
  },
  {
   "cell_type": "code",
   "execution_count": 20,
   "id": "d2b8c36e-368c-41a5-9b61-2637568f4950",
   "metadata": {},
   "outputs": [
    {
     "data": {
      "text/plain": [
       "tensor([6, 6, 6,  ..., 6, 7, 6])"
      ]
     },
     "execution_count": 20,
     "metadata": {},
     "output_type": "execute_result"
    }
   ],
   "source": [
    "target"
   ]
  },
  {
   "cell_type": "code",
   "execution_count": 15,
   "id": "da0e518a-5850-45d7-a680-3b42716d44ac",
   "metadata": {},
   "outputs": [
    {
     "name": "stdout",
     "output_type": "stream",
     "text": [
      " 0 fixed acidity          7.60   6.89   6.73\n",
      " 1 volatile acidity       0.33   0.28   0.27\n",
      " 2 citric acid            0.34   0.34   0.33\n",
      " 3 residual sugar         6.39   6.71   5.26\n",
      " 4 chlorides              0.05   0.05   0.04\n",
      " 5 free sulfur dioxide   53.33  35.42  34.55\n",
      " 6 total sulfur dioxide 170.60 141.83 125.25\n",
      " 7 density                0.99   0.99   0.99\n",
      " 8 pH                     3.19   3.18   3.22\n",
      " 9 sulphates              0.47   0.49   0.50\n",
      "10 alcohol               10.34  10.26  11.42\n"
     ]
    }
   ],
   "source": [
    "## Group the data into categories\n",
    "bad_data = data[target <= 3]\n",
    "mid_data = data[(target > 3) & (target < 7)]\n",
    "good_data = data[target >=7]\n",
    "\n",
    "## Gather some statistics\n",
    "bad_mean = torch.mean(bad_data, dim=0)\n",
    "mid_mean = torch.mean(mid_data, dim=0)\n",
    "good_mean = torch.mean(good_data, dim=0)\n",
    "\n",
    "## View the stats\n",
    "for i, args in enumerate(zip(col_list, bad_mean, mid_mean, good_mean)):\n",
    "    print('{:2} {:20} {:6.2f} {:6.2f} {:6.2f}'.format(i, *args))"
   ]
  },
  {
   "cell_type": "code",
   "execution_count": 42,
   "id": "e0d7e644-4cb3-4a76-945e-d412c3a9f088",
   "metadata": {},
   "outputs": [],
   "source": [
    "def prepare_data(data, target, val_pct):\n",
    "    x = data\n",
    "    y = target.unsqueeze(1).to(torch.float32)\n",
    "    ## Normalize the data\n",
    "    xn = torch.nn.functional.normalize(data, dim=1)\n",
    "    \n",
    "    ## Split up training/validation sets\n",
    "    n_samples = x.shape[0]\n",
    "    n_val = int(n_samples*val_pct)\n",
    "    shuffled_indices = torch.randperm(n_samples)\n",
    "    train_indices = shuffled_indices[:-n_val]\n",
    "    val_indices = shuffled_indices[-n_val:]\n",
    "\n",
    "    x_train = x[train_indices]\n",
    "    x_val = x[val_indices]\n",
    "\n",
    "    xn_train = xn[train_indices]\n",
    "    xn_val = xn[val_indices]\n",
    "\n",
    "    y_train = y[train_indices]\n",
    "    y_val = y[val_indices]\n",
    "\n",
    "    return x, y, x_train, x_val, xn_train, xn_val, y_train, y_val\n",
    "\n",
    "x, y, x_train, x_val, xn_train, xn_val,\\\n",
    "    y_train, y_val = prepare_data(data, target, .20)"
   ]
  },
  {
   "cell_type": "code",
   "execution_count": 43,
   "id": "3b2668ba-40db-4431-924b-d217bfa0b174",
   "metadata": {},
   "outputs": [
    {
     "data": {
      "text/plain": [
       "(torch.Size([3919, 11]),\n",
       " torch.Size([979, 11]),\n",
       " torch.Size([3919, 1]),\n",
       " torch.Size([979, 1]))"
      ]
     },
     "execution_count": 43,
     "metadata": {},
     "output_type": "execute_result"
    }
   ],
   "source": [
    "xn_train.shape, xn_val.shape, y_train.shape, y_val.shape"
   ]
  },
  {
   "cell_type": "code",
   "execution_count": 69,
   "id": "7c82f661-f6a1-4d35-96d6-4c85071ffe38",
   "metadata": {},
   "outputs": [],
   "source": [
    "seq_model = nn.Sequential(\n",
    "    nn.Linear(11,100),\n",
    "    nn.ReLU(),\n",
    "    nn.Linear(100,50),\n",
    "    nn.ReLU(),\n",
    "    nn.Linear(50,25),\n",
    "    nn.ReLU(),\n",
    "    nn.Linear(25,1)\n",
    ")\n",
    "optimizer = optim.SGD(seq_model.parameters(), lr=1e-1)"
   ]
  },
  {
   "cell_type": "code",
   "execution_count": 70,
   "id": "5c62587e-90a1-4485-aaf0-00639bbfe6b4",
   "metadata": {},
   "outputs": [],
   "source": [
    "def training_loop(n_epochs,\n",
    "                  optimizer, model, loss_fn, \n",
    "                  x_train, x_val,\n",
    "                  y_train, y_val):\n",
    "    for epoch in range(1, n_epochs+1):\n",
    "        ## Training set\n",
    "        p_train = model(x_train) ## Make a prediction\n",
    "        loss_train = loss_fn(p_train, y_train) ## Compute the loss\n",
    "\n",
    "        ## Validation set\n",
    "        p_val = model(x_val) ## Make a predicton\n",
    "        loss_val = loss_fn(p_val, y_val) ## Compute the loss\n",
    "\n",
    "        ## Update params\n",
    "        optimizer.zero_grad() ## Reset accumulated gradient\n",
    "        loss_train.backward() ## Update the gradient at the training input\n",
    "        optimizer.step() ## Step the params in the direction of the gradient\n",
    "\n",
    "        if (epoch <= 5) or (epoch % 500 == 0):\n",
    "            print(f\"Epoch: {epoch}, Training loss: {loss_train.item():.4f},\"\n",
    "                  f\"Validation loss: {loss_val.item():.4f}\")"
   ]
  },
  {
   "cell_type": "code",
   "execution_count": 71,
   "id": "82cd11a8-2c30-4f5d-81c4-0a9b5f6f2caf",
   "metadata": {},
   "outputs": [
    {
     "name": "stdout",
     "output_type": "stream",
     "text": [
      "Epoch: 1, Training loss: 36.6307,Validation loss: 36.7676\n",
      "Epoch: 2, Training loss: 18.0938,Validation loss: 18.1817\n",
      "Epoch: 3, Training loss: 4.5081,Validation loss: 4.4488\n",
      "Epoch: 4, Training loss: 19.6316,Validation loss: 19.7244\n",
      "Epoch: 5, Training loss: 11.2469,Validation loss: 11.3100\n",
      "Epoch: 500, Training loss: 0.7677,Validation loss: 0.7549\n",
      "Epoch: 1000, Training loss: 0.7548,Validation loss: 0.7430\n",
      "Epoch: 1500, Training loss: 0.7418,Validation loss: 0.7342\n",
      "Epoch: 2000, Training loss: 0.7297,Validation loss: 0.7256\n",
      "Epoch: 2500, Training loss: 0.7127,Validation loss: 0.7069\n",
      "Epoch: 3000, Training loss: 0.7005,Validation loss: 0.6923\n",
      "Epoch: 3500, Training loss: 0.6877,Validation loss: 0.6779\n",
      "Epoch: 4000, Training loss: 0.6782,Validation loss: 0.6682\n",
      "Epoch: 4500, Training loss: 0.6769,Validation loss: 0.6659\n",
      "Epoch: 5000, Training loss: 0.6656,Validation loss: 0.6539\n",
      "Epoch: 5500, Training loss: 0.6674,Validation loss: 0.6533\n",
      "Epoch: 6000, Training loss: 0.6584,Validation loss: 0.6468\n",
      "Epoch: 6500, Training loss: 0.6575,Validation loss: 0.6399\n",
      "Epoch: 7000, Training loss: 0.6532,Validation loss: 0.6316\n",
      "Epoch: 7500, Training loss: 0.6509,Validation loss: 0.6204\n",
      "Epoch: 8000, Training loss: 0.6457,Validation loss: 0.6160\n",
      "Epoch: 8500, Training loss: 0.6448,Validation loss: 0.6153\n",
      "Epoch: 9000, Training loss: 0.6621,Validation loss: 0.6405\n",
      "Epoch: 9500, Training loss: 0.6396,Validation loss: 0.6175\n",
      "Epoch: 10000, Training loss: 0.6423,Validation loss: 0.6129\n"
     ]
    }
   ],
   "source": [
    "training_loop(\n",
    "    n_epochs=10000,\n",
    "    optimizer=optimizer,\n",
    "    model=seq_model,\n",
    "    loss_fn=nn.MSELoss(),\n",
    "    x_train=xn_train,\n",
    "    x_val=xn_val,\n",
    "    y_train=y_train,\n",
    "    y_val=y_val\n",
    ")"
   ]
  },
  {
   "cell_type": "code",
   "execution_count": 73,
   "id": "a5200fbf-0fff-47f0-8e39-b147029b37c8",
   "metadata": {},
   "outputs": [],
   "source": [
    "pred = seq_model(xn_val)"
   ]
  },
  {
   "cell_type": "code",
   "execution_count": 86,
   "id": "f6ea9e1e-bf05-404d-90a4-3c7ecfa3001e",
   "metadata": {},
   "outputs": [
    {
     "data": {
      "text/plain": [
       "torch.Size([663])"
      ]
     },
     "execution_count": 86,
     "metadata": {},
     "output_type": "execute_result"
    }
   ],
   "source": [
    "y_val[np.abs(y_val.detach().numpy()-pred.detach().numpy())<.75].shape"
   ]
  },
  {
   "cell_type": "code",
   "execution_count": 83,
   "id": "5719a02e-43bd-49bf-9969-ef8154f87b79",
   "metadata": {},
   "outputs": [
    {
     "data": {
      "text/plain": [
       "torch.Size([979, 1])"
      ]
     },
     "execution_count": 83,
     "metadata": {},
     "output_type": "execute_result"
    }
   ],
   "source": [
    "y_val.shape"
   ]
  },
  {
   "cell_type": "code",
   "execution_count": 93,
   "id": "60ea871f-cb63-441c-bb33-235596f7cae9",
   "metadata": {},
   "outputs": [
    {
     "data": {
      "text/plain": [
       "torch.Size([218])"
      ]
     },
     "execution_count": 93,
     "metadata": {},
     "output_type": "execute_result"
    }
   ],
   "source": [
    "y_val[y_val>6].shape"
   ]
  },
  {
   "cell_type": "code",
   "execution_count": 94,
   "id": "a886f3a7-e6a3-4bcc-ab3a-5da1706f672c",
   "metadata": {},
   "outputs": [
    {
     "data": {
      "text/plain": [
       "torch.Size([311])"
      ]
     },
     "execution_count": 94,
     "metadata": {},
     "output_type": "execute_result"
    }
   ],
   "source": [
    "y_val[pred>6].shape"
   ]
  },
  {
   "cell_type": "code",
   "execution_count": 97,
   "id": "09d70fde-f7e6-48c7-8514-079eb898605f",
   "metadata": {},
   "outputs": [],
   "source": [
    "actual_good = (y_val > 5)\n",
    "pred_good = (pred > 5)"
   ]
  },
  {
   "cell_type": "code",
   "execution_count": 99,
   "id": "449405cb-2215-44cb-b5d1-3a93646968ed",
   "metadata": {},
   "outputs": [
    {
     "data": {
      "text/plain": [
       "(642, 0.6701461377870563, 0.9892141756548536)"
      ]
     },
     "execution_count": 99,
     "metadata": {},
     "output_type": "execute_result"
    }
   ],
   "source": [
    "n_matches = torch.sum(actual_good & pred_good).item()\n",
    "n_predicted = torch.sum(pred_good).item()\n",
    "n_actual = torch.sum(actual_good).item()\n",
    "\n",
    "n_matches, n_matches/n_predicted, n_matches/n_actual"
   ]
  },
  {
   "cell_type": "code",
   "execution_count": null,
   "id": "505cbc73-4101-40e6-b50a-a9e165a62c9c",
   "metadata": {},
   "outputs": [],
   "source": [
    "full_pred = seq_model(x)"
   ]
  }
 ],
 "metadata": {
  "kernelspec": {
   "display_name": "Python 3.11 (torch)",
   "language": "python",
   "name": "pytorch"
  },
  "language_info": {
   "codemirror_mode": {
    "name": "ipython",
    "version": 3
   },
   "file_extension": ".py",
   "mimetype": "text/x-python",
   "name": "python",
   "nbconvert_exporter": "python",
   "pygments_lexer": "ipython3",
   "version": "3.11.7"
  }
 },
 "nbformat": 4,
 "nbformat_minor": 5
}
